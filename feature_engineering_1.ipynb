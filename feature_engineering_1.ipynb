{
 "cells": [
  {
   "cell_type": "code",
   "execution_count": 1,
   "metadata": {},
   "outputs": [],
   "source": [
    "import src.utils as utils"
   ]
  },
  {
   "cell_type": "markdown",
   "metadata": {},
   "source": [
    "## 1. Load Preprocessed Dataset"
   ]
  },
  {
   "cell_type": "code",
   "execution_count": 2,
   "metadata": {},
   "outputs": [],
   "source": [
    "x_train = utils.deserialize_data(\"data/processed/x_train_prep.pkl\")\n",
    "y_train = utils.deserialize_data(\"data/processed/y_train_prep.pkl\")"
   ]
  },
  {
   "cell_type": "code",
   "execution_count": 3,
   "metadata": {},
   "outputs": [],
   "source": [
    "train_set = utils.combine_dataframe([x_train, y_train], axis=1)"
   ]
  },
  {
   "cell_type": "code",
   "execution_count": 4,
   "metadata": {},
   "outputs": [],
   "source": [
    "params = utils.load_params(\"config/params.yaml\")"
   ]
  },
  {
   "cell_type": "markdown",
   "metadata": {},
   "source": [
    "## 2. Outliers Removal"
   ]
  },
  {
   "cell_type": "code",
   "execution_count": 5,
   "metadata": {},
   "outputs": [],
   "source": [
    "def quartile_based_outliers_removal(target_dataframe, columns_name):\n",
    "    target_dataframe = target_dataframe.copy(deep=True)\n",
    "\n",
    "    for column_name in columns_name:\n",
    "        q1 = target_dataframe[column_name].quantile(0.25)\n",
    "        q3 = target_dataframe[column_name].quantile(0.75)\n",
    "        iqr = q3 - q1\n",
    "\n",
    "        lower_limit = q1 - 1.5 * iqr\n",
    "        upper_limit = q3 + 1.5 * iqr\n",
    "\n",
    "        target_dataframe = target_dataframe[(target_dataframe[column_name] > lower_limit) & (target_dataframe[column_name] < upper_limit)]\n",
    "    \n",
    "    return target_dataframe     \n"
   ]
  },
  {
   "cell_type": "code",
   "execution_count": 6,
   "metadata": {},
   "outputs": [],
   "source": [
    "train_set_rmout = quartile_based_outliers_removal(train_set, params[\"predictors_feature_engineered\"])"
   ]
  },
  {
   "cell_type": "code",
   "execution_count": 7,
   "metadata": {},
   "outputs": [],
   "source": [
    "# here we have:\n",
    "# 1. train_set variable, untouched one\n",
    "# 2. train_set_rmout, with outlier removed"
   ]
  },
  {
   "cell_type": "markdown",
   "metadata": {},
   "source": [
    "## 3. Feature Scaling"
   ]
  },
  {
   "cell_type": "markdown",
   "metadata": {},
   "source": [
    "#### 3.1. Min-Max Normalization"
   ]
  },
  {
   "cell_type": "code",
   "execution_count": 8,
   "metadata": {},
   "outputs": [
    {
     "name": "stdout",
     "output_type": "stream",
     "text": [
      "Serialized models/minmax.pkl\n"
     ]
    }
   ],
   "source": [
    "minmax_scaler = utils.create_minmax_scaler_object()\n",
    "train_set_minmax, minmax_scaler = utils.fit_transform_scaler(minmax_scaler, train_set, params[\"predictors_feature_engineered\"], params[\"minmax_path\"])"
   ]
  },
  {
   "cell_type": "code",
   "execution_count": 9,
   "metadata": {},
   "outputs": [
    {
     "name": "stdout",
     "output_type": "stream",
     "text": [
      "Serialized models/rmout_minmax.pkl\n"
     ]
    }
   ],
   "source": [
    "rmout_minmax_scaler = utils.create_minmax_scaler_object()\n",
    "train_set_rmout_minmax, rmout_minmax_scaler = utils.fit_transform_scaler(rmout_minmax_scaler, train_set_rmout, params[\"predictors_feature_engineered\"], params[\"rmout_minmax_path\"])"
   ]
  },
  {
   "cell_type": "code",
   "execution_count": 10,
   "metadata": {},
   "outputs": [],
   "source": [
    "# until this part, we have 4 train data:\n",
    "# 1. train_set\n",
    "# 2. train_set_rmout\n",
    "# 3. train_set_minmax\n",
    "# 4. train_set_rmout_minmax\n",
    "\n",
    "# also we have 2 more object:\n",
    "# 1. minmax_scaler\n",
    "# 2. rmout_minmax_scaler"
   ]
  },
  {
   "cell_type": "markdown",
   "metadata": {},
   "source": [
    "#### 3.2. Standardization"
   ]
  },
  {
   "cell_type": "code",
   "execution_count": 11,
   "metadata": {},
   "outputs": [
    {
     "name": "stdout",
     "output_type": "stream",
     "text": [
      "Serialized models/std.pkl\n"
     ]
    }
   ],
   "source": [
    "std_scaler = utils.create_standard_scaler_object()\n",
    "train_set_std, std_scaler = utils.fit_transform_scaler(std_scaler, train_set, params[\"predictors_feature_engineered\"], params[\"std_path\"])"
   ]
  },
  {
   "cell_type": "code",
   "execution_count": 12,
   "metadata": {},
   "outputs": [
    {
     "name": "stdout",
     "output_type": "stream",
     "text": [
      "Serialized models/rmout_std.pkl\n"
     ]
    }
   ],
   "source": [
    "rmout_std_scaler = utils.create_standard_scaler_object()\n",
    "train_set_rmout_std, rmout_std_scaler = utils.fit_transform_scaler(rmout_std_scaler, train_set_rmout, params[\"predictors_feature_engineered\"], params[\"rmout_std_path\"])"
   ]
  },
  {
   "cell_type": "code",
   "execution_count": 13,
   "metadata": {},
   "outputs": [
    {
     "name": "stdout",
     "output_type": "stream",
     "text": [
      "Serialized models/minmax_std.pkl\n"
     ]
    }
   ],
   "source": [
    "minmax_std_scaler = utils.create_standard_scaler_object()\n",
    "train_set_minmax_std, minmax_std_scaler = utils.fit_transform_scaler(minmax_std_scaler, train_set_minmax, params[\"predictors_feature_engineered\"], params[\"minmax_std_path\"])"
   ]
  },
  {
   "cell_type": "code",
   "execution_count": 14,
   "metadata": {},
   "outputs": [
    {
     "name": "stdout",
     "output_type": "stream",
     "text": [
      "Serialized models/rmout_minmax_std.pkl\n"
     ]
    }
   ],
   "source": [
    "rmout_minmax_std_scaler = utils.create_standard_scaler_object()\n",
    "train_set_rmout_minmax_std, rmout_minmax_std_scaler = utils.fit_transform_scaler(rmout_minmax_std_scaler, train_set_rmout_minmax, params[\"predictors_feature_engineered\"], params[\"rmout_minmax_std_path\"])"
   ]
  },
  {
   "cell_type": "code",
   "execution_count": 15,
   "metadata": {},
   "outputs": [],
   "source": [
    "# lastly, until now, we have 8 train data:\n",
    "# 1. train_set\n",
    "# 2. train_set_rmout\n",
    "# 3. train_set_std\n",
    "# 4. train_set_minmax\n",
    "# 5. train_set_rmout_std\n",
    "# 6. train_set_rmout_minmax\n",
    "# 7. train_set_minmax_std\n",
    "# 8. train_set_rmout_minmax_std\n",
    "\n",
    "# also we have 4 more object:\n",
    "# 1. minmax_object\n",
    "# 2. std_scaler\n",
    "# 3. rmout_minmax_scaler\n",
    "# 4. rmout_std_scaler\n",
    "# 5. minmax_std_scaler\n",
    "# 6. rmout_minmax_std_scaler"
   ]
  }
 ],
 "metadata": {
  "kernelspec": {
   "display_name": "venv_mlprocess",
   "language": "python",
   "name": "python3"
  },
  "language_info": {
   "codemirror_mode": {
    "name": "ipython",
    "version": 3
   },
   "file_extension": ".py",
   "mimetype": "text/x-python",
   "name": "python",
   "nbconvert_exporter": "python",
   "pygments_lexer": "ipython3",
   "version": "3.11.7"
  }
 },
 "nbformat": 4,
 "nbformat_minor": 2
}
