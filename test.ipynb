{
 "cells": [
  {
   "cell_type": "code",
   "execution_count": 1,
   "metadata": {},
   "outputs": [],
   "source": [
    "import joblib\n",
    "import pandas as pd\n",
    "import numpy as np\n",
    "import src.utils as utils"
   ]
  },
  {
   "cell_type": "code",
   "execution_count": 2,
   "metadata": {},
   "outputs": [
    {
     "data": {
      "text/html": [
       "<div>\n",
       "<style scoped>\n",
       "    .dataframe tbody tr th:only-of-type {\n",
       "        vertical-align: middle;\n",
       "    }\n",
       "\n",
       "    .dataframe tbody tr th {\n",
       "        vertical-align: top;\n",
       "    }\n",
       "\n",
       "    .dataframe thead th {\n",
       "        text-align: right;\n",
       "    }\n",
       "</style>\n",
       "<table border=\"1\" class=\"dataframe\">\n",
       "  <thead>\n",
       "    <tr style=\"text-align: right;\">\n",
       "      <th></th>\n",
       "      <th>stasiun</th>\n",
       "    </tr>\n",
       "  </thead>\n",
       "  <tbody>\n",
       "    <tr>\n",
       "      <th>1527</th>\n",
       "      <td>DKI1 (Bunderan HI)</td>\n",
       "    </tr>\n",
       "    <tr>\n",
       "      <th>433</th>\n",
       "      <td>DKI5 (Kebon Jeruk) Jakarta Barat</td>\n",
       "    </tr>\n",
       "    <tr>\n",
       "      <th>1357</th>\n",
       "      <td>DKI5 (Kebon Jeruk) Jakarta Barat</td>\n",
       "    </tr>\n",
       "    <tr>\n",
       "      <th>1136</th>\n",
       "      <td>DKI2 (Kelapa Gading)</td>\n",
       "    </tr>\n",
       "    <tr>\n",
       "      <th>1097</th>\n",
       "      <td>DKI1 (Bunderan HI)</td>\n",
       "    </tr>\n",
       "    <tr>\n",
       "      <th>...</th>\n",
       "      <td>...</td>\n",
       "    </tr>\n",
       "    <tr>\n",
       "      <th>1802</th>\n",
       "      <td>DKI5 (Kebon Jeruk) Jakarta Barat</td>\n",
       "    </tr>\n",
       "    <tr>\n",
       "      <th>1433</th>\n",
       "      <td>DKI3 (Jagakarsa)</td>\n",
       "    </tr>\n",
       "    <tr>\n",
       "      <th>977</th>\n",
       "      <td>DKI2 (Kelapa Gading)</td>\n",
       "    </tr>\n",
       "    <tr>\n",
       "      <th>983</th>\n",
       "      <td>DKI3 (Jagakarsa)</td>\n",
       "    </tr>\n",
       "    <tr>\n",
       "      <th>747</th>\n",
       "      <td>DKI5 (Kebon Jeruk) Jakarta Barat</td>\n",
       "    </tr>\n",
       "  </tbody>\n",
       "</table>\n",
       "<p>1269 rows × 1 columns</p>\n",
       "</div>"
      ],
      "text/plain": [
       "                               stasiun\n",
       "1527                DKI1 (Bunderan HI)\n",
       "433   DKI5 (Kebon Jeruk) Jakarta Barat\n",
       "1357  DKI5 (Kebon Jeruk) Jakarta Barat\n",
       "1136              DKI2 (Kelapa Gading)\n",
       "1097                DKI1 (Bunderan HI)\n",
       "...                                ...\n",
       "1802  DKI5 (Kebon Jeruk) Jakarta Barat\n",
       "1433                  DKI3 (Jagakarsa)\n",
       "977               DKI2 (Kelapa Gading)\n",
       "983                   DKI3 (Jagakarsa)\n",
       "747   DKI5 (Kebon Jeruk) Jakarta Barat\n",
       "\n",
       "[1269 rows x 1 columns]"
      ]
     },
     "execution_count": 2,
     "metadata": {},
     "output_type": "execute_result"
    }
   ],
   "source": [
    "a = joblib.load(\"log/0_categoric_raw.pkl\")\n",
    "a"
   ]
  },
  {
   "cell_type": "code",
   "execution_count": 3,
   "metadata": {},
   "outputs": [
    {
     "data": {
      "text/plain": [
       "array([0, 1, 0, ..., 1, 1, 1])"
      ]
     },
     "execution_count": 3,
     "metadata": {},
     "output_type": "execute_result"
    }
   ],
   "source": [
    "aa = joblib.load(\"log/y_0_categoric_raw.pkl\")\n",
    "aa"
   ]
  },
  {
   "cell_type": "code",
   "execution_count": 5,
   "metadata": {},
   "outputs": [
    {
     "data": {
      "text/plain": [
       "((1269, 1), (1269,))"
      ]
     },
     "execution_count": 5,
     "metadata": {},
     "output_type": "execute_result"
    }
   ],
   "source": [
    "a.shape, aa.shape"
   ]
  },
  {
   "cell_type": "code",
   "execution_count": null,
   "metadata": {},
   "outputs": [],
   "source": []
  },
  {
   "cell_type": "code",
   "execution_count": 6,
   "metadata": {},
   "outputs": [
    {
     "data": {
      "text/plain": [
       "array([[1., 0., 0., 0., 0.],\n",
       "       [0., 0., 0., 0., 1.],\n",
       "       [0., 0., 0., 0., 1.],\n",
       "       ...,\n",
       "       [0., 1., 0., 0., 0.],\n",
       "       [0., 0., 1., 0., 0.],\n",
       "       [0., 0., 0., 0., 1.]])"
      ]
     },
     "execution_count": 6,
     "metadata": {},
     "output_type": "execute_result"
    }
   ],
   "source": [
    "b = joblib.load(\"log/1_categoric_encoded.pkl\")\n",
    "b"
   ]
  },
  {
   "cell_type": "code",
   "execution_count": 7,
   "metadata": {},
   "outputs": [
    {
     "data": {
      "text/plain": [
       "array([0, 1, 0, ..., 1, 1, 1])"
      ]
     },
     "execution_count": 7,
     "metadata": {},
     "output_type": "execute_result"
    }
   ],
   "source": [
    "bb = joblib.load(\"log/y_1_categoric_encoded.pkl\")\n",
    "bb"
   ]
  },
  {
   "cell_type": "code",
   "execution_count": 8,
   "metadata": {},
   "outputs": [
    {
     "data": {
      "text/plain": [
       "((1269, 5), (1269,))"
      ]
     },
     "execution_count": 8,
     "metadata": {},
     "output_type": "execute_result"
    }
   ],
   "source": [
    "b.shape, bb.shape"
   ]
  },
  {
   "cell_type": "code",
   "execution_count": null,
   "metadata": {},
   "outputs": [],
   "source": []
  },
  {
   "cell_type": "code",
   "execution_count": 12,
   "metadata": {},
   "outputs": [
    {
     "data": {
      "text/html": [
       "<div>\n",
       "<style scoped>\n",
       "    .dataframe tbody tr th:only-of-type {\n",
       "        vertical-align: middle;\n",
       "    }\n",
       "\n",
       "    .dataframe tbody tr th {\n",
       "        vertical-align: top;\n",
       "    }\n",
       "\n",
       "    .dataframe thead th {\n",
       "        text-align: right;\n",
       "    }\n",
       "</style>\n",
       "<table border=\"1\" class=\"dataframe\">\n",
       "  <thead>\n",
       "    <tr style=\"text-align: right;\">\n",
       "      <th></th>\n",
       "      <th>0</th>\n",
       "      <th>1</th>\n",
       "      <th>2</th>\n",
       "      <th>3</th>\n",
       "      <th>4</th>\n",
       "      <th>5</th>\n",
       "      <th>6</th>\n",
       "      <th>7</th>\n",
       "      <th>8</th>\n",
       "      <th>9</th>\n",
       "      <th>10</th>\n",
       "    </tr>\n",
       "  </thead>\n",
       "  <tbody>\n",
       "    <tr>\n",
       "      <th>0</th>\n",
       "      <td>1.0</td>\n",
       "      <td>0.0</td>\n",
       "      <td>0.0</td>\n",
       "      <td>0.0</td>\n",
       "      <td>0.0</td>\n",
       "      <td>-1.862630</td>\n",
       "      <td>-1.529931</td>\n",
       "      <td>-1.252267</td>\n",
       "      <td>-0.738321</td>\n",
       "      <td>-0.952037</td>\n",
       "      <td>0.286426</td>\n",
       "    </tr>\n",
       "    <tr>\n",
       "      <th>1</th>\n",
       "      <td>0.0</td>\n",
       "      <td>0.0</td>\n",
       "      <td>0.0</td>\n",
       "      <td>0.0</td>\n",
       "      <td>1.0</td>\n",
       "      <td>0.294496</td>\n",
       "      <td>0.279296</td>\n",
       "      <td>0.000000</td>\n",
       "      <td>0.888292</td>\n",
       "      <td>-0.882356</td>\n",
       "      <td>1.168644</td>\n",
       "    </tr>\n",
       "    <tr>\n",
       "      <th>2</th>\n",
       "      <td>0.0</td>\n",
       "      <td>0.0</td>\n",
       "      <td>0.0</td>\n",
       "      <td>0.0</td>\n",
       "      <td>1.0</td>\n",
       "      <td>-1.930040</td>\n",
       "      <td>-1.817763</td>\n",
       "      <td>-1.170450</td>\n",
       "      <td>-0.941647</td>\n",
       "      <td>-0.673312</td>\n",
       "      <td>-1.147180</td>\n",
       "    </tr>\n",
       "    <tr>\n",
       "      <th>3</th>\n",
       "      <td>0.0</td>\n",
       "      <td>1.0</td>\n",
       "      <td>0.0</td>\n",
       "      <td>0.0</td>\n",
       "      <td>0.0</td>\n",
       "      <td>-0.986297</td>\n",
       "      <td>-0.995387</td>\n",
       "      <td>-0.924997</td>\n",
       "      <td>-0.128341</td>\n",
       "      <td>2.532030</td>\n",
       "      <td>-1.367734</td>\n",
       "    </tr>\n",
       "    <tr>\n",
       "      <th>4</th>\n",
       "      <td>1.0</td>\n",
       "      <td>0.0</td>\n",
       "      <td>0.0</td>\n",
       "      <td>0.0</td>\n",
       "      <td>0.0</td>\n",
       "      <td>1.305649</td>\n",
       "      <td>1.183910</td>\n",
       "      <td>-1.743174</td>\n",
       "      <td>6.378109</td>\n",
       "      <td>0.859678</td>\n",
       "      <td>0.065871</td>\n",
       "    </tr>\n",
       "    <tr>\n",
       "      <th>...</th>\n",
       "      <td>...</td>\n",
       "      <td>...</td>\n",
       "      <td>...</td>\n",
       "      <td>...</td>\n",
       "      <td>...</td>\n",
       "      <td>...</td>\n",
       "      <td>...</td>\n",
       "      <td>...</td>\n",
       "      <td>...</td>\n",
       "      <td>...</td>\n",
       "      <td>...</td>\n",
       "    </tr>\n",
       "    <tr>\n",
       "      <th>1264</th>\n",
       "      <td>0.0</td>\n",
       "      <td>0.0</td>\n",
       "      <td>0.0</td>\n",
       "      <td>0.0</td>\n",
       "      <td>1.0</td>\n",
       "      <td>-0.447016</td>\n",
       "      <td>-0.214129</td>\n",
       "      <td>-0.188637</td>\n",
       "      <td>-0.941647</td>\n",
       "      <td>-0.394586</td>\n",
       "      <td>-0.154684</td>\n",
       "    </tr>\n",
       "    <tr>\n",
       "      <th>1265</th>\n",
       "      <td>0.0</td>\n",
       "      <td>0.0</td>\n",
       "      <td>1.0</td>\n",
       "      <td>0.0</td>\n",
       "      <td>0.0</td>\n",
       "      <td>-1.188528</td>\n",
       "      <td>-0.995387</td>\n",
       "      <td>0.547722</td>\n",
       "      <td>-0.941647</td>\n",
       "      <td>-0.185542</td>\n",
       "      <td>-1.147180</td>\n",
       "    </tr>\n",
       "    <tr>\n",
       "      <th>1266</th>\n",
       "      <td>0.0</td>\n",
       "      <td>1.0</td>\n",
       "      <td>0.0</td>\n",
       "      <td>0.0</td>\n",
       "      <td>0.0</td>\n",
       "      <td>1.979751</td>\n",
       "      <td>1.348385</td>\n",
       "      <td>1.693170</td>\n",
       "      <td>0.074986</td>\n",
       "      <td>0.650634</td>\n",
       "      <td>0.837812</td>\n",
       "    </tr>\n",
       "    <tr>\n",
       "      <th>1267</th>\n",
       "      <td>0.0</td>\n",
       "      <td>0.0</td>\n",
       "      <td>1.0</td>\n",
       "      <td>0.0</td>\n",
       "      <td>0.0</td>\n",
       "      <td>0.496727</td>\n",
       "      <td>0.197059</td>\n",
       "      <td>0.956811</td>\n",
       "      <td>-0.941647</td>\n",
       "      <td>-0.603630</td>\n",
       "      <td>-0.154684</td>\n",
       "    </tr>\n",
       "    <tr>\n",
       "      <th>1268</th>\n",
       "      <td>0.0</td>\n",
       "      <td>0.0</td>\n",
       "      <td>0.0</td>\n",
       "      <td>0.0</td>\n",
       "      <td>1.0</td>\n",
       "      <td>-0.581836</td>\n",
       "      <td>-0.296367</td>\n",
       "      <td>-0.679543</td>\n",
       "      <td>-0.128341</td>\n",
       "      <td>-1.300444</td>\n",
       "      <td>0.176148</td>\n",
       "    </tr>\n",
       "  </tbody>\n",
       "</table>\n",
       "<p>1269 rows × 11 columns</p>\n",
       "</div>"
      ],
      "text/plain": [
       "       0    1    2    3    4         5         6         7         8   \\\n",
       "0     1.0  0.0  0.0  0.0  0.0 -1.862630 -1.529931 -1.252267 -0.738321   \n",
       "1     0.0  0.0  0.0  0.0  1.0  0.294496  0.279296  0.000000  0.888292   \n",
       "2     0.0  0.0  0.0  0.0  1.0 -1.930040 -1.817763 -1.170450 -0.941647   \n",
       "3     0.0  1.0  0.0  0.0  0.0 -0.986297 -0.995387 -0.924997 -0.128341   \n",
       "4     1.0  0.0  0.0  0.0  0.0  1.305649  1.183910 -1.743174  6.378109   \n",
       "...   ...  ...  ...  ...  ...       ...       ...       ...       ...   \n",
       "1264  0.0  0.0  0.0  0.0  1.0 -0.447016 -0.214129 -0.188637 -0.941647   \n",
       "1265  0.0  0.0  1.0  0.0  0.0 -1.188528 -0.995387  0.547722 -0.941647   \n",
       "1266  0.0  1.0  0.0  0.0  0.0  1.979751  1.348385  1.693170  0.074986   \n",
       "1267  0.0  0.0  1.0  0.0  0.0  0.496727  0.197059  0.956811 -0.941647   \n",
       "1268  0.0  0.0  0.0  0.0  1.0 -0.581836 -0.296367 -0.679543 -0.128341   \n",
       "\n",
       "            9         10  \n",
       "0    -0.952037  0.286426  \n",
       "1    -0.882356  1.168644  \n",
       "2    -0.673312 -1.147180  \n",
       "3     2.532030 -1.367734  \n",
       "4     0.859678  0.065871  \n",
       "...        ...       ...  \n",
       "1264 -0.394586 -0.154684  \n",
       "1265 -0.185542 -1.147180  \n",
       "1266  0.650634  0.837812  \n",
       "1267 -0.603630 -0.154684  \n",
       "1268 -1.300444  0.176148  \n",
       "\n",
       "[1269 rows x 11 columns]"
      ]
     },
     "execution_count": 12,
     "metadata": {},
     "output_type": "execute_result"
    }
   ],
   "source": [
    "c = joblib.load(\"log/6_combined.pkl\")\n",
    "c = pd.DataFrame(c)\n",
    "c"
   ]
  },
  {
   "cell_type": "code",
   "execution_count": null,
   "metadata": {},
   "outputs": [],
   "source": []
  },
  {
   "cell_type": "code",
   "execution_count": 14,
   "metadata": {},
   "outputs": [
    {
     "data": {
      "text/html": [
       "<div>\n",
       "<style scoped>\n",
       "    .dataframe tbody tr th:only-of-type {\n",
       "        vertical-align: middle;\n",
       "    }\n",
       "\n",
       "    .dataframe tbody tr th {\n",
       "        vertical-align: top;\n",
       "    }\n",
       "\n",
       "    .dataframe thead th {\n",
       "        text-align: right;\n",
       "    }\n",
       "</style>\n",
       "<table border=\"1\" class=\"dataframe\">\n",
       "  <thead>\n",
       "    <tr style=\"text-align: right;\">\n",
       "      <th></th>\n",
       "      <th>11</th>\n",
       "    </tr>\n",
       "  </thead>\n",
       "  <tbody>\n",
       "    <tr>\n",
       "      <th>0</th>\n",
       "      <td>0</td>\n",
       "    </tr>\n",
       "    <tr>\n",
       "      <th>1</th>\n",
       "      <td>1</td>\n",
       "    </tr>\n",
       "    <tr>\n",
       "      <th>2</th>\n",
       "      <td>0</td>\n",
       "    </tr>\n",
       "    <tr>\n",
       "      <th>3</th>\n",
       "      <td>1</td>\n",
       "    </tr>\n",
       "    <tr>\n",
       "      <th>4</th>\n",
       "      <td>1</td>\n",
       "    </tr>\n",
       "    <tr>\n",
       "      <th>...</th>\n",
       "      <td>...</td>\n",
       "    </tr>\n",
       "    <tr>\n",
       "      <th>1264</th>\n",
       "      <td>1</td>\n",
       "    </tr>\n",
       "    <tr>\n",
       "      <th>1265</th>\n",
       "      <td>1</td>\n",
       "    </tr>\n",
       "    <tr>\n",
       "      <th>1266</th>\n",
       "      <td>1</td>\n",
       "    </tr>\n",
       "    <tr>\n",
       "      <th>1267</th>\n",
       "      <td>1</td>\n",
       "    </tr>\n",
       "    <tr>\n",
       "      <th>1268</th>\n",
       "      <td>1</td>\n",
       "    </tr>\n",
       "  </tbody>\n",
       "</table>\n",
       "<p>1269 rows × 1 columns</p>\n",
       "</div>"
      ],
      "text/plain": [
       "      11\n",
       "0      0\n",
       "1      1\n",
       "2      0\n",
       "3      1\n",
       "4      1\n",
       "...   ..\n",
       "1264   1\n",
       "1265   1\n",
       "1266   1\n",
       "1267   1\n",
       "1268   1\n",
       "\n",
       "[1269 rows x 1 columns]"
      ]
     },
     "execution_count": 14,
     "metadata": {},
     "output_type": "execute_result"
    }
   ],
   "source": [
    "cc = joblib.load(\"log/y_6_combined.pkl\")\n",
    "cc = pd.DataFrame(cc, columns=[c.shape[1]])\n",
    "cc"
   ]
  },
  {
   "cell_type": "code",
   "execution_count": 15,
   "metadata": {},
   "outputs": [
    {
     "data": {
      "text/plain": [
       "((1269, 11), (1269, 1))"
      ]
     },
     "execution_count": 15,
     "metadata": {},
     "output_type": "execute_result"
    }
   ],
   "source": [
    "c.shape, cc.shape"
   ]
  },
  {
   "cell_type": "code",
   "execution_count": null,
   "metadata": {},
   "outputs": [],
   "source": []
  },
  {
   "cell_type": "code",
   "execution_count": 22,
   "metadata": {},
   "outputs": [
    {
     "data": {
      "text/plain": [
       "array([[ 1.        ,  0.        ,  0.        , ..., -0.73832059,\n",
       "        -0.95203717,  0.28642556],\n",
       "       [ 0.        ,  0.        ,  0.        , ...,  0.88829196,\n",
       "        -0.88235583,  1.16864408],\n",
       "       [ 0.        ,  0.        ,  0.        , ..., -0.94164716,\n",
       "        -0.67331179, -1.14717954],\n",
       "       ...,\n",
       "       [ 0.        ,  1.        ,  0.        , ...,  0.07498569,\n",
       "         0.65063378,  0.83781213],\n",
       "       [ 0.        ,  0.        ,  1.        , ..., -0.94164716,\n",
       "        -0.60363044, -0.1546837 ],\n",
       "       [ 0.        ,  0.        ,  0.        , ..., -0.12834088,\n",
       "        -1.3004439 ,  0.17614824]])"
      ]
     },
     "execution_count": 22,
     "metadata": {},
     "output_type": "execute_result"
    }
   ],
   "source": [
    "d = joblib.load(\"log/7_outliers_removed.pkl\")\n",
    "d"
   ]
  },
  {
   "cell_type": "code",
   "execution_count": 23,
   "metadata": {},
   "outputs": [
    {
     "data": {
      "text/plain": [
       "array([0, 1, 0, ..., 1, 1, 1])"
      ]
     },
     "execution_count": 23,
     "metadata": {},
     "output_type": "execute_result"
    }
   ],
   "source": [
    "dd = joblib.load(\"log/y_7_outliers_removed.pkl\")\n",
    "dd"
   ]
  },
  {
   "cell_type": "code",
   "execution_count": null,
   "metadata": {},
   "outputs": [],
   "source": []
  },
  {
   "cell_type": "code",
   "execution_count": null,
   "metadata": {},
   "outputs": [],
   "source": []
  }
 ],
 "metadata": {
  "kernelspec": {
   "display_name": "venv_mlprocess",
   "language": "python",
   "name": "python3"
  },
  "language_info": {
   "codemirror_mode": {
    "name": "ipython",
    "version": 3
   },
   "file_extension": ".py",
   "mimetype": "text/x-python",
   "name": "python",
   "nbconvert_exporter": "python",
   "pygments_lexer": "ipython3",
   "version": "3.11.7"
  }
 },
 "nbformat": 4,
 "nbformat_minor": 2
}
