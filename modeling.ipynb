{
 "cells": [
  {
   "cell_type": "code",
   "execution_count": 1,
   "metadata": {},
   "outputs": [],
   "source": [
    "from sklearn.linear_model import LogisticRegression\n",
    "from sklearn.tree import DecisionTreeClassifier\n",
    "from sklearn.ensemble import RandomForestClassifier\n",
    "from sklearn.neighbors import KNeighborsClassifier\n",
    "from xgboost import XGBClassifier\n",
    "\n",
    "from sklearn.metrics import classification_report, ConfusionMatrixDisplay, roc_curve, roc_auc_score\n",
    "from sklearn.model_selection import RandomizedSearchCV, GridSearchCV\n",
    "\n",
    "from datetime import datetime\n",
    "from tqdm import tqdm\n",
    "import yaml\n",
    "import joblib\n",
    "import json\n",
    "import pandas as pd\n",
    "import matplotlib.pyplot as plt\n",
    "import seaborn as sns\n",
    "import copy\n",
    "import hashlib"
   ]
  },
  {
   "cell_type": "markdown",
   "metadata": {},
   "source": [
    "## 1. Load Dataset"
   ]
  },
  {
   "cell_type": "code",
   "execution_count": 2,
   "metadata": {},
   "outputs": [],
   "source": [
    "x_rus = joblib.load(\"data/processed/x_rus.pkl\")\n",
    "y_rus = joblib.load(\"data/processed/y_rus.pkl\")\n",
    "\n",
    "x_ros = joblib.load(\"data/processed/x_ros.pkl\")\n",
    "y_ros = joblib.load(\"data/processed/y_ros.pkl\")\n",
    "\n",
    "x_sm = joblib.load(\"data/processed/x_sm.pkl\")\n",
    "y_sm = joblib.load(\"data/processed/y_sm.pkl\")\n",
    "\n",
    "x_valid = joblib.load(\"data/processed/x_valid_feng.pkl\")\n",
    "y_valid = joblib.load(\"data/processed/y_valid_feng.pkl\")\n",
    "\n",
    "x_test = joblib.load(\"data/processed/x_test_feng.pkl\")\n",
    "y_test = joblib.load(\"data/processed/y_test_feng.pkl\")"
   ]
  },
  {
   "cell_type": "code",
   "execution_count": null,
   "metadata": {},
   "outputs": [],
   "source": []
  },
  {
   "cell_type": "markdown",
   "metadata": {},
   "source": [
    "## 2. Create Log Template"
   ]
  },
  {
   "cell_type": "code",
   "execution_count": 3,
   "metadata": {},
   "outputs": [],
   "source": [
    "def time_stamp():\n",
    "    return datetime.now()"
   ]
  },
  {
   "cell_type": "code",
   "execution_count": 4,
   "metadata": {},
   "outputs": [],
   "source": [
    "def create_log_template():\n",
    "    logger = {\n",
    "        \"model_name\" : [],\n",
    "        \"model_uid\" : [],\n",
    "        \"training_time\" : [],\n",
    "        \"training_date\" : [],\n",
    "        \"performance\" : [],\n",
    "        \"f1_score_avg\" : [],\n",
    "        \"data_configurations\" : [],\n",
    "    }\n",
    "\n",
    "    return logger"
   ]
  },
  {
   "cell_type": "code",
   "execution_count": 5,
   "metadata": {},
   "outputs": [],
   "source": [
    "def training_log_updater(current_log, log_path):\n",
    "    current_log = current_log.copy()\n",
    "\n",
    "    try:\n",
    "        with open(log_path, \"r\") as file:\n",
    "            last_log = json.load(file)\n",
    "        file.close()\n",
    "    except FileNotFoundError as ffe:\n",
    "        with open(log_path, \"w\") as file:\n",
    "            file.write(\"[]\")\n",
    "        file.close()\n",
    "        with open(log_path, \"r\") as file:\n",
    "            last_log = json.load(file)\n",
    "        file.close()\n",
    "    \n",
    "    last_log.append(current_log)\n",
    "\n",
    "    with open(log_path, \"w\") as file:\n",
    "        json.dump(last_log, file)\n",
    "        file.close()\n",
    "\n",
    "    return last_log"
   ]
  },
  {
   "cell_type": "code",
   "execution_count": null,
   "metadata": {},
   "outputs": [],
   "source": []
  },
  {
   "cell_type": "markdown",
   "metadata": {},
   "source": [
    "## 2. Training and Evaluation"
   ]
  },
  {
   "cell_type": "markdown",
   "metadata": {},
   "source": [
    "### 2.1. Create Model Object"
   ]
  },
  {
   "cell_type": "code",
   "execution_count": 6,
   "metadata": {},
   "outputs": [],
   "source": [
    "lgr_baseline = LogisticRegression()\n",
    "dct_baseline = DecisionTreeClassifier()\n",
    "rfc_baseline = RandomForestClassifier()\n",
    "knn_baseline = KNeighborsClassifier()\n",
    "xgb_baseline = XGBClassifier()"
   ]
  },
  {
   "cell_type": "code",
   "execution_count": 7,
   "metadata": {},
   "outputs": [],
   "source": [
    "list_of_model = {\n",
    "    \"undersampling\" : [\n",
    "        { \"model_name\": lgr_baseline.__class__.__name__, \"model_object\": lgr_baseline, \"model_uid\": \"\"},\n",
    "        { \"model_name\": dct_baseline.__class__.__name__, \"model_object\": dct_baseline, \"model_uid\": \"\"},\n",
    "        { \"model_name\": rfc_baseline.__class__.__name__, \"model_object\": rfc_baseline, \"model_uid\": \"\"},\n",
    "        { \"model_name\": knn_baseline.__class__.__name__, \"model_object\": knn_baseline, \"model_uid\": \"\"},\n",
    "        { \"model_name\": xgb_baseline.__class__.__name__, \"model_object\": xgb_baseline, \"model_uid\": \"\"}\n",
    "        ],\n",
    "    \"oversampling\" : [\n",
    "        { \"model_name\": lgr_baseline.__class__.__name__, \"model_object\": lgr_baseline, \"model_uid\": \"\"},\n",
    "        { \"model_name\": dct_baseline.__class__.__name__, \"model_object\": dct_baseline, \"model_uid\": \"\"},\n",
    "        { \"model_name\": rfc_baseline.__class__.__name__, \"model_object\": rfc_baseline, \"model_uid\": \"\"},\n",
    "        { \"model_name\": knn_baseline.__class__.__name__, \"model_object\": knn_baseline, \"model_uid\": \"\"},\n",
    "        { \"model_name\": xgb_baseline.__class__.__name__, \"model_object\": xgb_baseline, \"model_uid\": \"\"}\n",
    "        ],\n",
    "    \"smote\" : [\n",
    "        { \"model_name\": lgr_baseline.__class__.__name__, \"model_object\": lgr_baseline, \"model_uid\": \"\"},\n",
    "        { \"model_name\": dct_baseline.__class__.__name__, \"model_object\": dct_baseline, \"model_uid\": \"\"},\n",
    "        { \"model_name\": rfc_baseline.__class__.__name__, \"model_object\": rfc_baseline, \"model_uid\": \"\"},\n",
    "        { \"model_name\": knn_baseline.__class__.__name__, \"model_object\": knn_baseline, \"model_uid\": \"\"},\n",
    "        { \"model_name\": xgb_baseline.__class__.__name__, \"model_object\": xgb_baseline, \"model_uid\": \"\"}\n",
    "        ],\n",
    "    }"
   ]
  },
  {
   "cell_type": "markdown",
   "metadata": {},
   "source": [
    "### 2.2. Training Model"
   ]
  },
  {
   "cell_type": "code",
   "execution_count": 8,
   "metadata": {},
   "outputs": [],
   "source": [
    "def train_eval_model(list_of_model, prefix_model_name, x_train, y_train, data_configuration_name, x_valid, y_valid, log_path):\n",
    "\n",
    "    list_of_model = copy.deepcopy(list_of_model)\n",
    "    logger = create_log_template()\n",
    "\n",
    "    for model in tqdm(list_of_model):    \n",
    "        model_name = prefix_model_name + \"-\" + model[\"model_name\"]\n",
    "\n",
    "        start_time = time_stamp()\n",
    "        model[\"model_object\"].fit(x_train, y_train)\n",
    "        finished_time = time_stamp()\n",
    "\n",
    "        elapsed_time = finished_time - start_time\n",
    "        elapsed_time = elapsed_time.total_seconds()\n",
    "\n",
    "        y_pred = model[\"model_object\"].predict(x_valid)\n",
    "        performance = classification_report(y_valid, y_pred, output_dict = True)\n",
    "\n",
    "        plain_id = str(start_time) + str(finished_time)\n",
    "        chiper_id = hashlib.md5(plain_id.encode()).hexdigest()\n",
    "\n",
    "        model[\"model_uid\"] = chiper_id\n",
    "\n",
    "        logger[\"model_name\"].append(model_name)\n",
    "        logger[\"model_uid\"].append(chiper_id)\n",
    "        logger[\"training_time\"].append(elapsed_time)\n",
    "        logger[\"training_date\"].append(str(start_time))\n",
    "        logger[\"performance\"].append(performance)\n",
    "        logger[\"f1_score_avg\"].append(performance[\"macro avg\"][\"f1-score\"])\n",
    "        logger[\"data_configurations\"].append(data_configuration_name)\n",
    "\n",
    "    training_log = training_log_updater(logger, log_path)\n",
    "\n",
    "    return training_log, list_of_model"
   ]
  },
  {
   "cell_type": "markdown",
   "metadata": {},
   "source": [
    "#### 2.2.1. Baseline Model Undersampling"
   ]
  },
  {
   "cell_type": "code",
   "execution_count": 9,
   "metadata": {},
   "outputs": [
    {
     "name": "stderr",
     "output_type": "stream",
     "text": [
      "  0%|          | 0/5 [00:00<?, ?it/s]c:\\Users\\nvic\\Desktop\\Exercise\\venv_win\\lib\\site-packages\\sklearn\\linear_model\\_logistic.py:444: ConvergenceWarning: lbfgs failed to converge (status=1):\n",
      "STOP: TOTAL NO. of ITERATIONS REACHED LIMIT.\n",
      "\n",
      "Increase the number of iterations (max_iter) or scale the data as shown in:\n",
      "    https://scikit-learn.org/stable/modules/preprocessing.html\n",
      "Please also refer to the documentation for alternative solver options:\n",
      "    https://scikit-learn.org/stable/modules/linear_model.html#logistic-regression\n",
      "  n_iter_i = _check_optimize_result(\n",
      "100%|██████████| 5/5 [00:00<00:00,  8.59it/s]\n"
     ]
    }
   ],
   "source": [
    "training_log, list_of_model_rus = train_eval_model(\n",
    "    list_of_model[\"undersampling\"],\n",
    "    \"baseline_model\",\n",
    "    x_rus,\n",
    "    y_rus,\n",
    "    \"undersampling\",\n",
    "    x_valid,\n",
    "    y_valid,\n",
    "    \"log/training_log.json\"\n",
    ")"
   ]
  },
  {
   "cell_type": "code",
   "execution_count": 10,
   "metadata": {},
   "outputs": [],
   "source": [
    "list_of_model[\"undersampling\"] = copy.deepcopy(list_of_model_rus)"
   ]
  },
  {
   "cell_type": "code",
   "execution_count": null,
   "metadata": {},
   "outputs": [],
   "source": []
  },
  {
   "cell_type": "markdown",
   "metadata": {},
   "source": [
    "#### 2.2.2. Baseline Model Oversampling"
   ]
  },
  {
   "cell_type": "code",
   "execution_count": 11,
   "metadata": {},
   "outputs": [
    {
     "name": "stderr",
     "output_type": "stream",
     "text": [
      "  0%|          | 0/5 [00:00<?, ?it/s]c:\\Users\\nvic\\Desktop\\Exercise\\venv_win\\lib\\site-packages\\sklearn\\linear_model\\_logistic.py:444: ConvergenceWarning: lbfgs failed to converge (status=1):\n",
      "STOP: TOTAL NO. of ITERATIONS REACHED LIMIT.\n",
      "\n",
      "Increase the number of iterations (max_iter) or scale the data as shown in:\n",
      "    https://scikit-learn.org/stable/modules/preprocessing.html\n",
      "Please also refer to the documentation for alternative solver options:\n",
      "    https://scikit-learn.org/stable/modules/linear_model.html#logistic-regression\n",
      "  n_iter_i = _check_optimize_result(\n",
      "100%|██████████| 5/5 [00:00<00:00, 13.30it/s]\n"
     ]
    }
   ],
   "source": [
    "training_log, list_of_model_ros = train_eval_model(\n",
    "    list_of_model[\"oversampling\"],\n",
    "    \"baseline_model\",\n",
    "    x_rus,\n",
    "    y_rus,\n",
    "    \"oversampling\",\n",
    "    x_valid,\n",
    "    y_valid,\n",
    "    \"log/training_log.json\"\n",
    ")"
   ]
  },
  {
   "cell_type": "code",
   "execution_count": 12,
   "metadata": {},
   "outputs": [],
   "source": [
    "list_of_model[\"oversampling\"] = copy.deepcopy(list_of_model_ros)"
   ]
  },
  {
   "cell_type": "code",
   "execution_count": null,
   "metadata": {},
   "outputs": [],
   "source": []
  },
  {
   "cell_type": "markdown",
   "metadata": {},
   "source": [
    "#### 2.2.3. Baseline Model SMOTE"
   ]
  },
  {
   "cell_type": "code",
   "execution_count": 13,
   "metadata": {},
   "outputs": [
    {
     "name": "stderr",
     "output_type": "stream",
     "text": [
      "  0%|          | 0/5 [00:00<?, ?it/s]c:\\Users\\nvic\\Desktop\\Exercise\\venv_win\\lib\\site-packages\\sklearn\\linear_model\\_logistic.py:444: ConvergenceWarning: lbfgs failed to converge (status=1):\n",
      "STOP: TOTAL NO. of ITERATIONS REACHED LIMIT.\n",
      "\n",
      "Increase the number of iterations (max_iter) or scale the data as shown in:\n",
      "    https://scikit-learn.org/stable/modules/preprocessing.html\n",
      "Please also refer to the documentation for alternative solver options:\n",
      "    https://scikit-learn.org/stable/modules/linear_model.html#logistic-regression\n",
      "  n_iter_i = _check_optimize_result(\n",
      "100%|██████████| 5/5 [00:00<00:00, 14.12it/s]\n"
     ]
    }
   ],
   "source": [
    "training_log, list_of_model_sm = train_eval_model(\n",
    "    list_of_model[\"smote\"],\n",
    "    \"baseline_model\",\n",
    "    x_rus,\n",
    "    y_rus,\n",
    "    \"smote\",\n",
    "    x_valid,\n",
    "    y_valid,\n",
    "    \"log/training_log.json\"\n",
    ")"
   ]
  },
  {
   "cell_type": "code",
   "execution_count": 14,
   "metadata": {},
   "outputs": [],
   "source": [
    "list_of_model[\"smote\"] = copy.deepcopy(list_of_model_sm)"
   ]
  },
  {
   "cell_type": "code",
   "execution_count": null,
   "metadata": {},
   "outputs": [],
   "source": []
  },
  {
   "cell_type": "markdown",
   "metadata": {},
   "source": [
    "#### 2.3.4. Best Performance"
   ]
  },
  {
   "cell_type": "code",
   "execution_count": 15,
   "metadata": {},
   "outputs": [],
   "source": [
    "def training_log_to_df(training_log):\n",
    "    training_res = pd.DataFrame()\n",
    "\n",
    "    for log in tqdm(training_log):\n",
    "        training_res = pd.concat([training_res, pd.DataFrame(log)])\n",
    "    \n",
    "    training_res.sort_values([\"f1_score_avg\", \"training_time\"], ascending = [False, True], inplace = True)\n",
    "    training_res.reset_index(inplace = True, drop = True)\n",
    "    \n",
    "    return training_res"
   ]
  },
  {
   "cell_type": "code",
   "execution_count": 16,
   "metadata": {},
   "outputs": [
    {
     "name": "stderr",
     "output_type": "stream",
     "text": [
      "100%|██████████| 3/3 [00:00<00:00, 187.43it/s]\n"
     ]
    }
   ],
   "source": [
    "training_res = training_log_to_df(training_log)"
   ]
  },
  {
   "cell_type": "code",
   "execution_count": 17,
   "metadata": {},
   "outputs": [
    {
     "data": {
      "text/html": [
       "<div>\n",
       "<style scoped>\n",
       "    .dataframe tbody tr th:only-of-type {\n",
       "        vertical-align: middle;\n",
       "    }\n",
       "\n",
       "    .dataframe tbody tr th {\n",
       "        vertical-align: top;\n",
       "    }\n",
       "\n",
       "    .dataframe thead th {\n",
       "        text-align: right;\n",
       "    }\n",
       "</style>\n",
       "<table border=\"1\" class=\"dataframe\">\n",
       "  <thead>\n",
       "    <tr style=\"text-align: right;\">\n",
       "      <th></th>\n",
       "      <th>model_name</th>\n",
       "      <th>model_uid</th>\n",
       "      <th>training_time</th>\n",
       "      <th>training_date</th>\n",
       "      <th>performance</th>\n",
       "      <th>f1_score_avg</th>\n",
       "      <th>data_configurations</th>\n",
       "    </tr>\n",
       "  </thead>\n",
       "  <tbody>\n",
       "    <tr>\n",
       "      <th>0</th>\n",
       "      <td>baseline_model-DecisionTreeClassifier</td>\n",
       "      <td>a9ea4eefd9a6032ba95ef359981ab41c</td>\n",
       "      <td>0.002000</td>\n",
       "      <td>2022-11-02 17:47:57.647540</td>\n",
       "      <td>{'0': {'precision': 0.9655172413793104, 'recal...</td>\n",
       "      <td>0.990201</td>\n",
       "      <td>undersampling</td>\n",
       "    </tr>\n",
       "    <tr>\n",
       "      <th>1</th>\n",
       "      <td>baseline_model-DecisionTreeClassifier</td>\n",
       "      <td>2a38f9e1c9e4780345274841491c590f</td>\n",
       "      <td>0.002965</td>\n",
       "      <td>2022-11-02 17:47:59.153753</td>\n",
       "      <td>{'0': {'precision': 0.9655172413793104, 'recal...</td>\n",
       "      <td>0.990201</td>\n",
       "      <td>smote</td>\n",
       "    </tr>\n",
       "    <tr>\n",
       "      <th>2</th>\n",
       "      <td>baseline_model-DecisionTreeClassifier</td>\n",
       "      <td>10f0e518f65f057faa508a14876a6644</td>\n",
       "      <td>0.004003</td>\n",
       "      <td>2022-11-02 17:47:58.507712</td>\n",
       "      <td>{'0': {'precision': 0.9655172413793104, 'recal...</td>\n",
       "      <td>0.990201</td>\n",
       "      <td>oversampling</td>\n",
       "    </tr>\n",
       "    <tr>\n",
       "      <th>3</th>\n",
       "      <td>baseline_model-XGBClassifier</td>\n",
       "      <td>a09eef809e3104a8127951d04919aa1e</td>\n",
       "      <td>0.053965</td>\n",
       "      <td>2022-11-02 17:47:59.408748</td>\n",
       "      <td>{'0': {'precision': 0.9655172413793104, 'recal...</td>\n",
       "      <td>0.990201</td>\n",
       "      <td>smote</td>\n",
       "    </tr>\n",
       "    <tr>\n",
       "      <th>4</th>\n",
       "      <td>baseline_model-XGBClassifier</td>\n",
       "      <td>5ed82f2f9c964a04a526350e3a336b7f</td>\n",
       "      <td>0.068999</td>\n",
       "      <td>2022-11-02 17:47:58.752712</td>\n",
       "      <td>{'0': {'precision': 0.9655172413793104, 'recal...</td>\n",
       "      <td>0.990201</td>\n",
       "      <td>oversampling</td>\n",
       "    </tr>\n",
       "    <tr>\n",
       "      <th>5</th>\n",
       "      <td>baseline_model-XGBClassifier</td>\n",
       "      <td>4cf8362cc364566443b5ed28a2797f00</td>\n",
       "      <td>0.281174</td>\n",
       "      <td>2022-11-02 17:47:57.880538</td>\n",
       "      <td>{'0': {'precision': 0.9655172413793104, 'recal...</td>\n",
       "      <td>0.990201</td>\n",
       "      <td>undersampling</td>\n",
       "    </tr>\n",
       "    <tr>\n",
       "      <th>6</th>\n",
       "      <td>baseline_model-RandomForestClassifier</td>\n",
       "      <td>3504a16ca779c7a2b1078f8214601a63</td>\n",
       "      <td>0.170951</td>\n",
       "      <td>2022-11-02 17:47:58.524796</td>\n",
       "      <td>{'0': {'precision': 0.875, 'recall': 1.0, 'f1-...</td>\n",
       "      <td>0.962534</td>\n",
       "      <td>oversampling</td>\n",
       "    </tr>\n",
       "    <tr>\n",
       "      <th>7</th>\n",
       "      <td>baseline_model-RandomForestClassifier</td>\n",
       "      <td>d8402eb52ba6740a3f42e2fda8f76d7a</td>\n",
       "      <td>0.185028</td>\n",
       "      <td>2022-11-02 17:47:57.655547</td>\n",
       "      <td>{'0': {'precision': 0.875, 'recall': 1.0, 'f1-...</td>\n",
       "      <td>0.962534</td>\n",
       "      <td>undersampling</td>\n",
       "    </tr>\n",
       "    <tr>\n",
       "      <th>8</th>\n",
       "      <td>baseline_model-RandomForestClassifier</td>\n",
       "      <td>accd28117d0ba2ec79fa7bf4173af7d0</td>\n",
       "      <td>0.191998</td>\n",
       "      <td>2022-11-02 17:47:59.163756</td>\n",
       "      <td>{'0': {'precision': 0.875, 'recall': 1.0, 'f1-...</td>\n",
       "      <td>0.962534</td>\n",
       "      <td>smote</td>\n",
       "    </tr>\n",
       "    <tr>\n",
       "      <th>9</th>\n",
       "      <td>baseline_model-LogisticRegression</td>\n",
       "      <td>9f39e56a6d3de5ce0dd1976b66b6ed15</td>\n",
       "      <td>0.024991</td>\n",
       "      <td>2022-11-02 17:47:59.118727</td>\n",
       "      <td>{'0': {'precision': 0.65, 'recall': 0.92857142...</td>\n",
       "      <td>0.865546</td>\n",
       "      <td>smote</td>\n",
       "    </tr>\n",
       "    <tr>\n",
       "      <th>10</th>\n",
       "      <td>baseline_model-LogisticRegression</td>\n",
       "      <td>8c7733d456847ed45290757f1b06cf9f</td>\n",
       "      <td>0.040018</td>\n",
       "      <td>2022-11-02 17:47:57.593551</td>\n",
       "      <td>{'0': {'precision': 0.65, 'recall': 0.92857142...</td>\n",
       "      <td>0.865546</td>\n",
       "      <td>undersampling</td>\n",
       "    </tr>\n",
       "    <tr>\n",
       "      <th>11</th>\n",
       "      <td>baseline_model-LogisticRegression</td>\n",
       "      <td>8160c4b28eedef4d44ffecbfb267b500</td>\n",
       "      <td>0.041006</td>\n",
       "      <td>2022-11-02 17:47:58.459712</td>\n",
       "      <td>{'0': {'precision': 0.65, 'recall': 0.92857142...</td>\n",
       "      <td>0.865546</td>\n",
       "      <td>oversampling</td>\n",
       "    </tr>\n",
       "    <tr>\n",
       "      <th>12</th>\n",
       "      <td>baseline_model-KNeighborsClassifier</td>\n",
       "      <td>37970e5948c645b312edebc9364b1cd7</td>\n",
       "      <td>0.002966</td>\n",
       "      <td>2022-11-02 17:47:59.385750</td>\n",
       "      <td>{'0': {'precision': 0.6222222222222222, 'recal...</td>\n",
       "      <td>0.865515</td>\n",
       "      <td>smote</td>\n",
       "    </tr>\n",
       "    <tr>\n",
       "      <th>13</th>\n",
       "      <td>baseline_model-KNeighborsClassifier</td>\n",
       "      <td>e9648aa0b16e7d76f80929baf2e059b4</td>\n",
       "      <td>0.003031</td>\n",
       "      <td>2022-11-02 17:47:57.861540</td>\n",
       "      <td>{'0': {'precision': 0.6222222222222222, 'recal...</td>\n",
       "      <td>0.865515</td>\n",
       "      <td>undersampling</td>\n",
       "    </tr>\n",
       "    <tr>\n",
       "      <th>14</th>\n",
       "      <td>baseline_model-KNeighborsClassifier</td>\n",
       "      <td>686614d54fab07ff2aa22643fff0658f</td>\n",
       "      <td>0.006954</td>\n",
       "      <td>2022-11-02 17:47:58.725762</td>\n",
       "      <td>{'0': {'precision': 0.6222222222222222, 'recal...</td>\n",
       "      <td>0.865515</td>\n",
       "      <td>oversampling</td>\n",
       "    </tr>\n",
       "  </tbody>\n",
       "</table>\n",
       "</div>"
      ],
      "text/plain": [
       "                               model_name                         model_uid  \\\n",
       "0   baseline_model-DecisionTreeClassifier  a9ea4eefd9a6032ba95ef359981ab41c   \n",
       "1   baseline_model-DecisionTreeClassifier  2a38f9e1c9e4780345274841491c590f   \n",
       "2   baseline_model-DecisionTreeClassifier  10f0e518f65f057faa508a14876a6644   \n",
       "3            baseline_model-XGBClassifier  a09eef809e3104a8127951d04919aa1e   \n",
       "4            baseline_model-XGBClassifier  5ed82f2f9c964a04a526350e3a336b7f   \n",
       "5            baseline_model-XGBClassifier  4cf8362cc364566443b5ed28a2797f00   \n",
       "6   baseline_model-RandomForestClassifier  3504a16ca779c7a2b1078f8214601a63   \n",
       "7   baseline_model-RandomForestClassifier  d8402eb52ba6740a3f42e2fda8f76d7a   \n",
       "8   baseline_model-RandomForestClassifier  accd28117d0ba2ec79fa7bf4173af7d0   \n",
       "9       baseline_model-LogisticRegression  9f39e56a6d3de5ce0dd1976b66b6ed15   \n",
       "10      baseline_model-LogisticRegression  8c7733d456847ed45290757f1b06cf9f   \n",
       "11      baseline_model-LogisticRegression  8160c4b28eedef4d44ffecbfb267b500   \n",
       "12    baseline_model-KNeighborsClassifier  37970e5948c645b312edebc9364b1cd7   \n",
       "13    baseline_model-KNeighborsClassifier  e9648aa0b16e7d76f80929baf2e059b4   \n",
       "14    baseline_model-KNeighborsClassifier  686614d54fab07ff2aa22643fff0658f   \n",
       "\n",
       "    training_time               training_date  \\\n",
       "0        0.002000  2022-11-02 17:47:57.647540   \n",
       "1        0.002965  2022-11-02 17:47:59.153753   \n",
       "2        0.004003  2022-11-02 17:47:58.507712   \n",
       "3        0.053965  2022-11-02 17:47:59.408748   \n",
       "4        0.068999  2022-11-02 17:47:58.752712   \n",
       "5        0.281174  2022-11-02 17:47:57.880538   \n",
       "6        0.170951  2022-11-02 17:47:58.524796   \n",
       "7        0.185028  2022-11-02 17:47:57.655547   \n",
       "8        0.191998  2022-11-02 17:47:59.163756   \n",
       "9        0.024991  2022-11-02 17:47:59.118727   \n",
       "10       0.040018  2022-11-02 17:47:57.593551   \n",
       "11       0.041006  2022-11-02 17:47:58.459712   \n",
       "12       0.002966  2022-11-02 17:47:59.385750   \n",
       "13       0.003031  2022-11-02 17:47:57.861540   \n",
       "14       0.006954  2022-11-02 17:47:58.725762   \n",
       "\n",
       "                                          performance  f1_score_avg  \\\n",
       "0   {'0': {'precision': 0.9655172413793104, 'recal...      0.990201   \n",
       "1   {'0': {'precision': 0.9655172413793104, 'recal...      0.990201   \n",
       "2   {'0': {'precision': 0.9655172413793104, 'recal...      0.990201   \n",
       "3   {'0': {'precision': 0.9655172413793104, 'recal...      0.990201   \n",
       "4   {'0': {'precision': 0.9655172413793104, 'recal...      0.990201   \n",
       "5   {'0': {'precision': 0.9655172413793104, 'recal...      0.990201   \n",
       "6   {'0': {'precision': 0.875, 'recall': 1.0, 'f1-...      0.962534   \n",
       "7   {'0': {'precision': 0.875, 'recall': 1.0, 'f1-...      0.962534   \n",
       "8   {'0': {'precision': 0.875, 'recall': 1.0, 'f1-...      0.962534   \n",
       "9   {'0': {'precision': 0.65, 'recall': 0.92857142...      0.865546   \n",
       "10  {'0': {'precision': 0.65, 'recall': 0.92857142...      0.865546   \n",
       "11  {'0': {'precision': 0.65, 'recall': 0.92857142...      0.865546   \n",
       "12  {'0': {'precision': 0.6222222222222222, 'recal...      0.865515   \n",
       "13  {'0': {'precision': 0.6222222222222222, 'recal...      0.865515   \n",
       "14  {'0': {'precision': 0.6222222222222222, 'recal...      0.865515   \n",
       "\n",
       "   data_configurations  \n",
       "0        undersampling  \n",
       "1                smote  \n",
       "2         oversampling  \n",
       "3                smote  \n",
       "4         oversampling  \n",
       "5        undersampling  \n",
       "6         oversampling  \n",
       "7        undersampling  \n",
       "8                smote  \n",
       "9                smote  \n",
       "10       undersampling  \n",
       "11        oversampling  \n",
       "12               smote  \n",
       "13       undersampling  \n",
       "14        oversampling  "
      ]
     },
     "execution_count": 17,
     "metadata": {},
     "output_type": "execute_result"
    }
   ],
   "source": [
    "training_res"
   ]
  },
  {
   "cell_type": "code",
   "execution_count": null,
   "metadata": {},
   "outputs": [],
   "source": []
  },
  {
   "cell_type": "code",
   "execution_count": null,
   "metadata": {},
   "outputs": [],
   "source": []
  },
  {
   "cell_type": "code",
   "execution_count": 18,
   "metadata": {},
   "outputs": [],
   "source": [
    "def get_best_model(training_log_df, list_of_model):\n",
    "    model_object = None\n",
    "\n",
    "    best_model_info = training_log_df.sort_values([\"f1_score_avg\", \"training_time\"], ascending = [False, True]).iloc[0]\n",
    "    \n",
    "    for configuration_data in list_of_model:\n",
    "        for model_data in list_of_model[configuration_data]:\n",
    "            if model_data[\"model_uid\"] == best_model_info[\"model_uid\"]:\n",
    "                model_object = model_data[\"model_object\"]\n",
    "                break\n",
    "    \n",
    "    if model_object == None:\n",
    "        raise RuntimeError(\"The best model not found in your list of model.\")\n",
    "    \n",
    "    return model_object\n",
    "    "
   ]
  },
  {
   "cell_type": "code",
   "execution_count": 19,
   "metadata": {},
   "outputs": [],
   "source": [
    "model = get_best_model(training_res, list_of_model)"
   ]
  },
  {
   "cell_type": "code",
   "execution_count": 20,
   "metadata": {},
   "outputs": [
    {
     "data": {
      "text/html": [
       "<style>#sk-container-id-1 {color: black;background-color: white;}#sk-container-id-1 pre{padding: 0;}#sk-container-id-1 div.sk-toggleable {background-color: white;}#sk-container-id-1 label.sk-toggleable__label {cursor: pointer;display: block;width: 100%;margin-bottom: 0;padding: 0.3em;box-sizing: border-box;text-align: center;}#sk-container-id-1 label.sk-toggleable__label-arrow:before {content: \"▸\";float: left;margin-right: 0.25em;color: #696969;}#sk-container-id-1 label.sk-toggleable__label-arrow:hover:before {color: black;}#sk-container-id-1 div.sk-estimator:hover label.sk-toggleable__label-arrow:before {color: black;}#sk-container-id-1 div.sk-toggleable__content {max-height: 0;max-width: 0;overflow: hidden;text-align: left;background-color: #f0f8ff;}#sk-container-id-1 div.sk-toggleable__content pre {margin: 0.2em;color: black;border-radius: 0.25em;background-color: #f0f8ff;}#sk-container-id-1 input.sk-toggleable__control:checked~div.sk-toggleable__content {max-height: 200px;max-width: 100%;overflow: auto;}#sk-container-id-1 input.sk-toggleable__control:checked~label.sk-toggleable__label-arrow:before {content: \"▾\";}#sk-container-id-1 div.sk-estimator input.sk-toggleable__control:checked~label.sk-toggleable__label {background-color: #d4ebff;}#sk-container-id-1 div.sk-label input.sk-toggleable__control:checked~label.sk-toggleable__label {background-color: #d4ebff;}#sk-container-id-1 input.sk-hidden--visually {border: 0;clip: rect(1px 1px 1px 1px);clip: rect(1px, 1px, 1px, 1px);height: 1px;margin: -1px;overflow: hidden;padding: 0;position: absolute;width: 1px;}#sk-container-id-1 div.sk-estimator {font-family: monospace;background-color: #f0f8ff;border: 1px dotted black;border-radius: 0.25em;box-sizing: border-box;margin-bottom: 0.5em;}#sk-container-id-1 div.sk-estimator:hover {background-color: #d4ebff;}#sk-container-id-1 div.sk-parallel-item::after {content: \"\";width: 100%;border-bottom: 1px solid gray;flex-grow: 1;}#sk-container-id-1 div.sk-label:hover label.sk-toggleable__label {background-color: #d4ebff;}#sk-container-id-1 div.sk-serial::before {content: \"\";position: absolute;border-left: 1px solid gray;box-sizing: border-box;top: 0;bottom: 0;left: 50%;z-index: 0;}#sk-container-id-1 div.sk-serial {display: flex;flex-direction: column;align-items: center;background-color: white;padding-right: 0.2em;padding-left: 0.2em;position: relative;}#sk-container-id-1 div.sk-item {position: relative;z-index: 1;}#sk-container-id-1 div.sk-parallel {display: flex;align-items: stretch;justify-content: center;background-color: white;position: relative;}#sk-container-id-1 div.sk-item::before, #sk-container-id-1 div.sk-parallel-item::before {content: \"\";position: absolute;border-left: 1px solid gray;box-sizing: border-box;top: 0;bottom: 0;left: 50%;z-index: -1;}#sk-container-id-1 div.sk-parallel-item {display: flex;flex-direction: column;z-index: 1;position: relative;background-color: white;}#sk-container-id-1 div.sk-parallel-item:first-child::after {align-self: flex-end;width: 50%;}#sk-container-id-1 div.sk-parallel-item:last-child::after {align-self: flex-start;width: 50%;}#sk-container-id-1 div.sk-parallel-item:only-child::after {width: 0;}#sk-container-id-1 div.sk-dashed-wrapped {border: 1px dashed gray;margin: 0 0.4em 0.5em 0.4em;box-sizing: border-box;padding-bottom: 0.4em;background-color: white;}#sk-container-id-1 div.sk-label label {font-family: monospace;font-weight: bold;display: inline-block;line-height: 1.2em;}#sk-container-id-1 div.sk-label-container {text-align: center;}#sk-container-id-1 div.sk-container {/* jupyter's `normalize.less` sets `[hidden] { display: none; }` but bootstrap.min.css set `[hidden] { display: none !important; }` so we also need the `!important` here to be able to override the default hidden behavior on the sphinx rendered scikit-learn.org. See: https://github.com/scikit-learn/scikit-learn/issues/21755 */display: inline-block !important;position: relative;}#sk-container-id-1 div.sk-text-repr-fallback {display: none;}</style><div id=\"sk-container-id-1\" class=\"sk-top-container\"><div class=\"sk-text-repr-fallback\"><pre>DecisionTreeClassifier()</pre><b>In a Jupyter environment, please rerun this cell to show the HTML representation or trust the notebook. <br />On GitHub, the HTML representation is unable to render, please try loading this page with nbviewer.org.</b></div><div class=\"sk-container\" hidden><div class=\"sk-item\"><div class=\"sk-estimator sk-toggleable\"><input class=\"sk-toggleable__control sk-hidden--visually\" id=\"sk-estimator-id-1\" type=\"checkbox\" checked><label for=\"sk-estimator-id-1\" class=\"sk-toggleable__label sk-toggleable__label-arrow\">DecisionTreeClassifier</label><div class=\"sk-toggleable__content\"><pre>DecisionTreeClassifier()</pre></div></div></div></div></div>"
      ],
      "text/plain": [
       "DecisionTreeClassifier()"
      ]
     },
     "execution_count": 20,
     "metadata": {},
     "output_type": "execute_result"
    }
   ],
   "source": [
    "model"
   ]
  },
  {
   "cell_type": "code",
   "execution_count": 21,
   "metadata": {},
   "outputs": [
    {
     "data": {
      "text/plain": [
       "['models/model.pkl']"
      ]
     },
     "execution_count": 21,
     "metadata": {},
     "output_type": "execute_result"
    }
   ],
   "source": [
    "joblib.dump(model, \"models/model.pkl\")"
   ]
  },
  {
   "cell_type": "code",
   "execution_count": null,
   "metadata": {},
   "outputs": [],
   "source": []
  },
  {
   "cell_type": "markdown",
   "metadata": {},
   "source": [
    "#### 2.2.5. Hyperparameter Tuning"
   ]
  },
  {
   "cell_type": "code",
   "execution_count": 22,
   "metadata": {},
   "outputs": [],
   "source": [
    "dist_params_knn = {\n",
    "    \"algorithm\" : [\"ball_tree\", \"kd_tree\", \"brute\"],\n",
    "    \"n_neighbors\" : [2, 3, 4, 5, 6, 10, 15, 20, 25],\n",
    "    \"leaf_size\" : [2, 3, 4, 5, 6, 10, 15, 20, 25],\n",
    "}"
   ]
  },
  {
   "cell_type": "code",
   "execution_count": 23,
   "metadata": {},
   "outputs": [],
   "source": [
    "knn_enh = GridSearchCV(KNeighborsClassifier(), dist_params_knn, n_jobs = -1, verbose = 420)"
   ]
  },
  {
   "cell_type": "code",
   "execution_count": 24,
   "metadata": {},
   "outputs": [],
   "source": [
    "list_of_model[\"undersampling\"].append({\"model_name\": knn_enh.__class__.__name__ + \"-\" + knn_enh.estimator.__class__.__name__, \"model_object\": copy.deepcopy(knn_enh), \"model_uid\": \"\"})\n",
    "list_of_model[\"oversampling\"].append({\"model_name\": knn_enh.__class__.__name__ + \"-\" + knn_enh.estimator.__class__.__name__, \"model_object\": copy.deepcopy(knn_enh), \"model_uid\": \"\"})\n",
    "list_of_model[\"smote\"].append({\"model_name\": knn_enh.__class__.__name__ + \"-\" + knn_enh.estimator.__class__.__name__, \"model_object\": copy.deepcopy(knn_enh), \"model_uid\": \"\"})"
   ]
  },
  {
   "cell_type": "code",
   "execution_count": 25,
   "metadata": {},
   "outputs": [
    {
     "name": "stderr",
     "output_type": "stream",
     "text": [
      "  0%|          | 0/1 [00:00<?, ?it/s]"
     ]
    },
    {
     "name": "stdout",
     "output_type": "stream",
     "text": [
      "Fitting 5 folds for each of 243 candidates, totalling 1215 fits\n"
     ]
    },
    {
     "name": "stderr",
     "output_type": "stream",
     "text": [
      "100%|██████████| 1/1 [00:08<00:00,  8.89s/it]\n"
     ]
    }
   ],
   "source": [
    "training_log, list_of_model_rus_hyp = train_eval_model(\n",
    "    [list_of_model[\"undersampling\"][-1]],\n",
    "    \"hyperparams\",\n",
    "    x_rus,\n",
    "    y_rus,\n",
    "    \"undersampling\",\n",
    "    x_valid,\n",
    "    y_valid,\n",
    "    \"log/training_log.json\"\n",
    ")"
   ]
  },
  {
   "cell_type": "code",
   "execution_count": 26,
   "metadata": {},
   "outputs": [],
   "source": [
    "list_of_model[\"undersampling\"][-1] = copy.deepcopy(list_of_model_rus_hyp[0])"
   ]
  },
  {
   "cell_type": "code",
   "execution_count": 27,
   "metadata": {},
   "outputs": [
    {
     "data": {
      "text/plain": [
       "{'model_name': 'GridSearchCV-KNeighborsClassifier',\n",
       " 'model_object': GridSearchCV(estimator=KNeighborsClassifier(), n_jobs=-1,\n",
       "              param_grid={'algorithm': ['ball_tree', 'kd_tree', 'brute'],\n",
       "                          'leaf_size': [2, 3, 4, 5, 6, 10, 15, 20, 25],\n",
       "                          'n_neighbors': [2, 3, 4, 5, 6, 10, 15, 20, 25]},\n",
       "              verbose=420),\n",
       " 'model_uid': '80d82d43ee93f12846947714c62195c7'}"
      ]
     },
     "execution_count": 27,
     "metadata": {},
     "output_type": "execute_result"
    }
   ],
   "source": [
    "list_of_model[\"undersampling\"][-1]"
   ]
  },
  {
   "cell_type": "code",
   "execution_count": 28,
   "metadata": {},
   "outputs": [
    {
     "name": "stderr",
     "output_type": "stream",
     "text": [
      "100%|██████████| 4/4 [00:00<00:00, 306.81it/s]\n"
     ]
    },
    {
     "data": {
      "text/html": [
       "<div>\n",
       "<style scoped>\n",
       "    .dataframe tbody tr th:only-of-type {\n",
       "        vertical-align: middle;\n",
       "    }\n",
       "\n",
       "    .dataframe tbody tr th {\n",
       "        vertical-align: top;\n",
       "    }\n",
       "\n",
       "    .dataframe thead th {\n",
       "        text-align: right;\n",
       "    }\n",
       "</style>\n",
       "<table border=\"1\" class=\"dataframe\">\n",
       "  <thead>\n",
       "    <tr style=\"text-align: right;\">\n",
       "      <th></th>\n",
       "      <th>model_name</th>\n",
       "      <th>model_uid</th>\n",
       "      <th>training_time</th>\n",
       "      <th>training_date</th>\n",
       "      <th>performance</th>\n",
       "      <th>f1_score_avg</th>\n",
       "      <th>data_configurations</th>\n",
       "    </tr>\n",
       "  </thead>\n",
       "  <tbody>\n",
       "    <tr>\n",
       "      <th>0</th>\n",
       "      <td>baseline_model-DecisionTreeClassifier</td>\n",
       "      <td>a9ea4eefd9a6032ba95ef359981ab41c</td>\n",
       "      <td>0.002000</td>\n",
       "      <td>2022-11-02 17:47:57.647540</td>\n",
       "      <td>{'0': {'precision': 0.9655172413793104, 'recal...</td>\n",
       "      <td>0.990201</td>\n",
       "      <td>undersampling</td>\n",
       "    </tr>\n",
       "    <tr>\n",
       "      <th>1</th>\n",
       "      <td>baseline_model-DecisionTreeClassifier</td>\n",
       "      <td>2a38f9e1c9e4780345274841491c590f</td>\n",
       "      <td>0.002965</td>\n",
       "      <td>2022-11-02 17:47:59.153753</td>\n",
       "      <td>{'0': {'precision': 0.9655172413793104, 'recal...</td>\n",
       "      <td>0.990201</td>\n",
       "      <td>smote</td>\n",
       "    </tr>\n",
       "    <tr>\n",
       "      <th>2</th>\n",
       "      <td>baseline_model-DecisionTreeClassifier</td>\n",
       "      <td>10f0e518f65f057faa508a14876a6644</td>\n",
       "      <td>0.004003</td>\n",
       "      <td>2022-11-02 17:47:58.507712</td>\n",
       "      <td>{'0': {'precision': 0.9655172413793104, 'recal...</td>\n",
       "      <td>0.990201</td>\n",
       "      <td>oversampling</td>\n",
       "    </tr>\n",
       "    <tr>\n",
       "      <th>3</th>\n",
       "      <td>baseline_model-XGBClassifier</td>\n",
       "      <td>a09eef809e3104a8127951d04919aa1e</td>\n",
       "      <td>0.053965</td>\n",
       "      <td>2022-11-02 17:47:59.408748</td>\n",
       "      <td>{'0': {'precision': 0.9655172413793104, 'recal...</td>\n",
       "      <td>0.990201</td>\n",
       "      <td>smote</td>\n",
       "    </tr>\n",
       "    <tr>\n",
       "      <th>4</th>\n",
       "      <td>baseline_model-XGBClassifier</td>\n",
       "      <td>5ed82f2f9c964a04a526350e3a336b7f</td>\n",
       "      <td>0.068999</td>\n",
       "      <td>2022-11-02 17:47:58.752712</td>\n",
       "      <td>{'0': {'precision': 0.9655172413793104, 'recal...</td>\n",
       "      <td>0.990201</td>\n",
       "      <td>oversampling</td>\n",
       "    </tr>\n",
       "    <tr>\n",
       "      <th>5</th>\n",
       "      <td>baseline_model-XGBClassifier</td>\n",
       "      <td>4cf8362cc364566443b5ed28a2797f00</td>\n",
       "      <td>0.281174</td>\n",
       "      <td>2022-11-02 17:47:57.880538</td>\n",
       "      <td>{'0': {'precision': 0.9655172413793104, 'recal...</td>\n",
       "      <td>0.990201</td>\n",
       "      <td>undersampling</td>\n",
       "    </tr>\n",
       "    <tr>\n",
       "      <th>6</th>\n",
       "      <td>baseline_model-RandomForestClassifier</td>\n",
       "      <td>3504a16ca779c7a2b1078f8214601a63</td>\n",
       "      <td>0.170951</td>\n",
       "      <td>2022-11-02 17:47:58.524796</td>\n",
       "      <td>{'0': {'precision': 0.875, 'recall': 1.0, 'f1-...</td>\n",
       "      <td>0.962534</td>\n",
       "      <td>oversampling</td>\n",
       "    </tr>\n",
       "    <tr>\n",
       "      <th>7</th>\n",
       "      <td>baseline_model-RandomForestClassifier</td>\n",
       "      <td>d8402eb52ba6740a3f42e2fda8f76d7a</td>\n",
       "      <td>0.185028</td>\n",
       "      <td>2022-11-02 17:47:57.655547</td>\n",
       "      <td>{'0': {'precision': 0.875, 'recall': 1.0, 'f1-...</td>\n",
       "      <td>0.962534</td>\n",
       "      <td>undersampling</td>\n",
       "    </tr>\n",
       "    <tr>\n",
       "      <th>8</th>\n",
       "      <td>baseline_model-RandomForestClassifier</td>\n",
       "      <td>accd28117d0ba2ec79fa7bf4173af7d0</td>\n",
       "      <td>0.191998</td>\n",
       "      <td>2022-11-02 17:47:59.163756</td>\n",
       "      <td>{'0': {'precision': 0.875, 'recall': 1.0, 'f1-...</td>\n",
       "      <td>0.962534</td>\n",
       "      <td>smote</td>\n",
       "    </tr>\n",
       "    <tr>\n",
       "      <th>9</th>\n",
       "      <td>hyperparams-GridSearchCV-KNeighborsClassifier</td>\n",
       "      <td>80d82d43ee93f12846947714c62195c7</td>\n",
       "      <td>8.852611</td>\n",
       "      <td>2022-11-02 17:48:01.550718</td>\n",
       "      <td>{'0': {'precision': 0.6363636363636364, 'recal...</td>\n",
       "      <td>0.871940</td>\n",
       "      <td>undersampling</td>\n",
       "    </tr>\n",
       "    <tr>\n",
       "      <th>10</th>\n",
       "      <td>baseline_model-LogisticRegression</td>\n",
       "      <td>9f39e56a6d3de5ce0dd1976b66b6ed15</td>\n",
       "      <td>0.024991</td>\n",
       "      <td>2022-11-02 17:47:59.118727</td>\n",
       "      <td>{'0': {'precision': 0.65, 'recall': 0.92857142...</td>\n",
       "      <td>0.865546</td>\n",
       "      <td>smote</td>\n",
       "    </tr>\n",
       "    <tr>\n",
       "      <th>11</th>\n",
       "      <td>baseline_model-LogisticRegression</td>\n",
       "      <td>8c7733d456847ed45290757f1b06cf9f</td>\n",
       "      <td>0.040018</td>\n",
       "      <td>2022-11-02 17:47:57.593551</td>\n",
       "      <td>{'0': {'precision': 0.65, 'recall': 0.92857142...</td>\n",
       "      <td>0.865546</td>\n",
       "      <td>undersampling</td>\n",
       "    </tr>\n",
       "    <tr>\n",
       "      <th>12</th>\n",
       "      <td>baseline_model-LogisticRegression</td>\n",
       "      <td>8160c4b28eedef4d44ffecbfb267b500</td>\n",
       "      <td>0.041006</td>\n",
       "      <td>2022-11-02 17:47:58.459712</td>\n",
       "      <td>{'0': {'precision': 0.65, 'recall': 0.92857142...</td>\n",
       "      <td>0.865546</td>\n",
       "      <td>oversampling</td>\n",
       "    </tr>\n",
       "    <tr>\n",
       "      <th>13</th>\n",
       "      <td>baseline_model-KNeighborsClassifier</td>\n",
       "      <td>37970e5948c645b312edebc9364b1cd7</td>\n",
       "      <td>0.002966</td>\n",
       "      <td>2022-11-02 17:47:59.385750</td>\n",
       "      <td>{'0': {'precision': 0.6222222222222222, 'recal...</td>\n",
       "      <td>0.865515</td>\n",
       "      <td>smote</td>\n",
       "    </tr>\n",
       "    <tr>\n",
       "      <th>14</th>\n",
       "      <td>baseline_model-KNeighborsClassifier</td>\n",
       "      <td>e9648aa0b16e7d76f80929baf2e059b4</td>\n",
       "      <td>0.003031</td>\n",
       "      <td>2022-11-02 17:47:57.861540</td>\n",
       "      <td>{'0': {'precision': 0.6222222222222222, 'recal...</td>\n",
       "      <td>0.865515</td>\n",
       "      <td>undersampling</td>\n",
       "    </tr>\n",
       "    <tr>\n",
       "      <th>15</th>\n",
       "      <td>baseline_model-KNeighborsClassifier</td>\n",
       "      <td>686614d54fab07ff2aa22643fff0658f</td>\n",
       "      <td>0.006954</td>\n",
       "      <td>2022-11-02 17:47:58.725762</td>\n",
       "      <td>{'0': {'precision': 0.6222222222222222, 'recal...</td>\n",
       "      <td>0.865515</td>\n",
       "      <td>oversampling</td>\n",
       "    </tr>\n",
       "  </tbody>\n",
       "</table>\n",
       "</div>"
      ],
      "text/plain": [
       "                                       model_name  \\\n",
       "0           baseline_model-DecisionTreeClassifier   \n",
       "1           baseline_model-DecisionTreeClassifier   \n",
       "2           baseline_model-DecisionTreeClassifier   \n",
       "3                    baseline_model-XGBClassifier   \n",
       "4                    baseline_model-XGBClassifier   \n",
       "5                    baseline_model-XGBClassifier   \n",
       "6           baseline_model-RandomForestClassifier   \n",
       "7           baseline_model-RandomForestClassifier   \n",
       "8           baseline_model-RandomForestClassifier   \n",
       "9   hyperparams-GridSearchCV-KNeighborsClassifier   \n",
       "10              baseline_model-LogisticRegression   \n",
       "11              baseline_model-LogisticRegression   \n",
       "12              baseline_model-LogisticRegression   \n",
       "13            baseline_model-KNeighborsClassifier   \n",
       "14            baseline_model-KNeighborsClassifier   \n",
       "15            baseline_model-KNeighborsClassifier   \n",
       "\n",
       "                           model_uid  training_time  \\\n",
       "0   a9ea4eefd9a6032ba95ef359981ab41c       0.002000   \n",
       "1   2a38f9e1c9e4780345274841491c590f       0.002965   \n",
       "2   10f0e518f65f057faa508a14876a6644       0.004003   \n",
       "3   a09eef809e3104a8127951d04919aa1e       0.053965   \n",
       "4   5ed82f2f9c964a04a526350e3a336b7f       0.068999   \n",
       "5   4cf8362cc364566443b5ed28a2797f00       0.281174   \n",
       "6   3504a16ca779c7a2b1078f8214601a63       0.170951   \n",
       "7   d8402eb52ba6740a3f42e2fda8f76d7a       0.185028   \n",
       "8   accd28117d0ba2ec79fa7bf4173af7d0       0.191998   \n",
       "9   80d82d43ee93f12846947714c62195c7       8.852611   \n",
       "10  9f39e56a6d3de5ce0dd1976b66b6ed15       0.024991   \n",
       "11  8c7733d456847ed45290757f1b06cf9f       0.040018   \n",
       "12  8160c4b28eedef4d44ffecbfb267b500       0.041006   \n",
       "13  37970e5948c645b312edebc9364b1cd7       0.002966   \n",
       "14  e9648aa0b16e7d76f80929baf2e059b4       0.003031   \n",
       "15  686614d54fab07ff2aa22643fff0658f       0.006954   \n",
       "\n",
       "                 training_date  \\\n",
       "0   2022-11-02 17:47:57.647540   \n",
       "1   2022-11-02 17:47:59.153753   \n",
       "2   2022-11-02 17:47:58.507712   \n",
       "3   2022-11-02 17:47:59.408748   \n",
       "4   2022-11-02 17:47:58.752712   \n",
       "5   2022-11-02 17:47:57.880538   \n",
       "6   2022-11-02 17:47:58.524796   \n",
       "7   2022-11-02 17:47:57.655547   \n",
       "8   2022-11-02 17:47:59.163756   \n",
       "9   2022-11-02 17:48:01.550718   \n",
       "10  2022-11-02 17:47:59.118727   \n",
       "11  2022-11-02 17:47:57.593551   \n",
       "12  2022-11-02 17:47:58.459712   \n",
       "13  2022-11-02 17:47:59.385750   \n",
       "14  2022-11-02 17:47:57.861540   \n",
       "15  2022-11-02 17:47:58.725762   \n",
       "\n",
       "                                          performance  f1_score_avg  \\\n",
       "0   {'0': {'precision': 0.9655172413793104, 'recal...      0.990201   \n",
       "1   {'0': {'precision': 0.9655172413793104, 'recal...      0.990201   \n",
       "2   {'0': {'precision': 0.9655172413793104, 'recal...      0.990201   \n",
       "3   {'0': {'precision': 0.9655172413793104, 'recal...      0.990201   \n",
       "4   {'0': {'precision': 0.9655172413793104, 'recal...      0.990201   \n",
       "5   {'0': {'precision': 0.9655172413793104, 'recal...      0.990201   \n",
       "6   {'0': {'precision': 0.875, 'recall': 1.0, 'f1-...      0.962534   \n",
       "7   {'0': {'precision': 0.875, 'recall': 1.0, 'f1-...      0.962534   \n",
       "8   {'0': {'precision': 0.875, 'recall': 1.0, 'f1-...      0.962534   \n",
       "9   {'0': {'precision': 0.6363636363636364, 'recal...      0.871940   \n",
       "10  {'0': {'precision': 0.65, 'recall': 0.92857142...      0.865546   \n",
       "11  {'0': {'precision': 0.65, 'recall': 0.92857142...      0.865546   \n",
       "12  {'0': {'precision': 0.65, 'recall': 0.92857142...      0.865546   \n",
       "13  {'0': {'precision': 0.6222222222222222, 'recal...      0.865515   \n",
       "14  {'0': {'precision': 0.6222222222222222, 'recal...      0.865515   \n",
       "15  {'0': {'precision': 0.6222222222222222, 'recal...      0.865515   \n",
       "\n",
       "   data_configurations  \n",
       "0        undersampling  \n",
       "1                smote  \n",
       "2         oversampling  \n",
       "3                smote  \n",
       "4         oversampling  \n",
       "5        undersampling  \n",
       "6         oversampling  \n",
       "7        undersampling  \n",
       "8                smote  \n",
       "9        undersampling  \n",
       "10               smote  \n",
       "11       undersampling  \n",
       "12        oversampling  \n",
       "13               smote  \n",
       "14       undersampling  \n",
       "15        oversampling  "
      ]
     },
     "execution_count": 28,
     "metadata": {},
     "output_type": "execute_result"
    }
   ],
   "source": [
    "training_log_to_df(training_log)"
   ]
  },
  {
   "cell_type": "code",
   "execution_count": null,
   "metadata": {},
   "outputs": [],
   "source": []
  },
  {
   "cell_type": "markdown",
   "metadata": {},
   "source": [
    "#### 2.2.6. Take a Look at Confusion Matrix"
   ]
  },
  {
   "cell_type": "code",
   "execution_count": 29,
   "metadata": {},
   "outputs": [],
   "source": [
    "y_pred = model.predict(x_valid)"
   ]
  },
  {
   "cell_type": "code",
   "execution_count": 30,
   "metadata": {},
   "outputs": [
    {
     "data": {
      "text/plain": [
       "<sklearn.metrics._plot.confusion_matrix.ConfusionMatrixDisplay at 0x23bace7edf0>"
      ]
     },
     "execution_count": 30,
     "metadata": {},
     "output_type": "execute_result"
    },
    {
     "data": {
      "image/png": "[encoded data removed]",
      "text/plain": [
       "<Figure size 640x480 with 2 Axes>"
      ]
     },
     "metadata": {},
     "output_type": "display_data"
    }
   ],
   "source": [
    "ConfusionMatrixDisplay.from_predictions(y_valid, y_pred)"
   ]
  },
  {
   "cell_type": "code",
   "execution_count": null,
   "metadata": {},
   "outputs": [],
   "source": []
  },
  {
   "cell_type": "code",
   "execution_count": null,
   "metadata": {},
   "outputs": [],
   "source": []
  }
 ],
 "metadata": {
  "kernelspec": {
   "display_name": "Python 3 (ipykernel)",
   "language": "python",
   "name": "python3"
  },
  "language_info": {
   "codemirror_mode": {
    "name": "ipython",
    "version": 3
   },
   "file_extension": ".py",
   "mimetype": "text/x-python",
   "name": "python",
   "nbconvert_exporter": "python",
   "pygments_lexer": "ipython3",
   "version": "3.9.13"
  },
  "vscode": {
   "interpreter": {
    "hash": "f6b5ba345f865ccab9c1d1dba86e394ca61d67366183ce7e182371ee31a721f6"
   }
  }
 },
 "nbformat": 4,
 "nbformat_minor": 4
}
