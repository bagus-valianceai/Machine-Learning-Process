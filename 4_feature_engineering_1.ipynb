{
 "cells": [
  {
   "cell_type": "code",
   "execution_count": 1,
   "metadata": {},
   "outputs": [],
   "source": [
    "import src.utils as utils"
   ]
  },
  {
   "cell_type": "markdown",
   "metadata": {},
   "source": [
    "## 1. Import Params"
   ]
  },
  {
   "cell_type": "code",
   "execution_count": 29,
   "metadata": {},
   "outputs": [],
   "source": [
    "config_dir = \"config/config.yaml\""
   ]
  },
  {
   "cell_type": "code",
   "execution_count": 30,
   "metadata": {},
   "outputs": [],
   "source": [
    "config = utils.load_yaml(config_dir)"
   ]
  },
  {
   "cell_type": "markdown",
   "metadata": {},
   "source": [
    "## 2. Load Preprocessed Dataset"
   ]
  },
  {
   "cell_type": "code",
   "execution_count": 4,
   "metadata": {},
   "outputs": [],
   "source": [
    "x_train = utils.deserialize_data(config[\"x_train_prep_path\"])\n",
    "y_train = utils.deserialize_data(config[\"y_train_prep_path\"])\n",
    "\n",
    "x_valid = utils.deserialize_data(config[\"x_valid_prep_path\"])\n",
    "y_valid = utils.deserialize_data(config[\"y_valid_prep_path\"])\n",
    "\n",
    "x_test = utils.deserialize_data(config[\"x_test_prep_path\"])\n",
    "y_test = utils.deserialize_data(config[\"y_test_prep_path\"])"
   ]
  },
  {
   "cell_type": "code",
   "execution_count": 5,
   "metadata": {},
   "outputs": [],
   "source": [
    "train_set = utils.combine_dataframe([x_train, y_train], axis=1)\n",
    "valid_set = utils.combine_dataframe([x_valid, y_valid], axis=1)\n",
    "test_set = utils.combine_dataframe([x_test, y_test], axis=1)"
   ]
  },
  {
   "cell_type": "markdown",
   "metadata": {},
   "source": [
    "## 2. Feature Engineering For Training Set"
   ]
  },
  {
   "cell_type": "markdown",
   "metadata": {},
   "source": [
    "### 2.1. Outliers Removal"
   ]
  },
  {
   "cell_type": "code",
   "execution_count": 6,
   "metadata": {},
   "outputs": [],
   "source": [
    "train_set_rmout, iqr_data = utils.fit_transform_iqr_outliers_removal(\n",
    "    train_set,\n",
    "    config[\"predictors_feature_engineered\"]\n",
    ")"
   ]
  },
  {
   "cell_type": "markdown",
   "metadata": {},
   "source": [
    "### 2.2. Feature Scaling"
   ]
  },
  {
   "cell_type": "markdown",
   "metadata": {},
   "source": [
    "#### 2.2.1. Min-Max Normalization"
   ]
  },
  {
   "cell_type": "code",
   "execution_count": 7,
   "metadata": {},
   "outputs": [
    {
     "name": "stdout",
     "output_type": "stream",
     "text": [
      "Serialized models/minmax.pkl\n"
     ]
    }
   ],
   "source": [
    "minmax_scaler = utils.create_minmax_scaler_object()\n",
    "train_set_minmax, minmax_scaler = utils.fit_transform_scaler(\n",
    "    minmax_scaler,\n",
    "    train_set,\n",
    "    config[\"predictors_feature_engineered\"],\n",
    "    config[\"minmax_path\"]\n",
    ")"
   ]
  },
  {
   "cell_type": "code",
   "execution_count": 8,
   "metadata": {},
   "outputs": [
    {
     "name": "stdout",
     "output_type": "stream",
     "text": [
      "Serialized models/rmout_minmax.pkl\n"
     ]
    }
   ],
   "source": [
    "rmout_minmax_scaler = utils.create_minmax_scaler_object()\n",
    "train_set_rmout_minmax, rmout_minmax_scaler = utils.fit_transform_scaler(\n",
    "    rmout_minmax_scaler,\n",
    "    train_set_rmout,\n",
    "    config[\"predictors_feature_engineered\"],\n",
    "    config[\"rmout_minmax_path\"]\n",
    ")"
   ]
  },
  {
   "cell_type": "code",
   "execution_count": 9,
   "metadata": {},
   "outputs": [],
   "source": [
    "# until this part, we have 4 train data:\n",
    "# 1. train_set\n",
    "# 2. train_set_rmout\n",
    "# 3. train_set_minmax\n",
    "# 4. train_set_rmout_minmax\n",
    "\n",
    "# also we have 2 more object:\n",
    "# 1. minmax_scaler\n",
    "# 2. rmout_minmax_scaler"
   ]
  },
  {
   "cell_type": "markdown",
   "metadata": {},
   "source": [
    "#### 2.2.2. Standardization"
   ]
  },
  {
   "cell_type": "code",
   "execution_count": 10,
   "metadata": {},
   "outputs": [
    {
     "name": "stdout",
     "output_type": "stream",
     "text": [
      "Serialized models/std.pkl\n"
     ]
    }
   ],
   "source": [
    "std_scaler = utils.create_standard_scaler_object()\n",
    "train_set_std, std_scaler = utils.fit_transform_scaler(\n",
    "    std_scaler,\n",
    "    train_set,\n",
    "    config[\"predictors_feature_engineered\"],\n",
    "    config[\"std_path\"]\n",
    ")"
   ]
  },
  {
   "cell_type": "code",
   "execution_count": 11,
   "metadata": {},
   "outputs": [
    {
     "name": "stdout",
     "output_type": "stream",
     "text": [
      "Serialized models/rmout_std.pkl\n"
     ]
    }
   ],
   "source": [
    "rmout_std_scaler = utils.create_standard_scaler_object()\n",
    "train_set_rmout_std, rmout_std_scaler = utils.fit_transform_scaler(\n",
    "    rmout_std_scaler,\n",
    "    train_set_rmout,\n",
    "    config[\"predictors_feature_engineered\"],\n",
    "    config[\"rmout_std_path\"]\n",
    ")"
   ]
  },
  {
   "cell_type": "code",
   "execution_count": 12,
   "metadata": {},
   "outputs": [
    {
     "name": "stdout",
     "output_type": "stream",
     "text": [
      "Serialized models/minmax_std.pkl\n"
     ]
    }
   ],
   "source": [
    "minmax_std_scaler = utils.create_standard_scaler_object()\n",
    "train_set_minmax_std, minmax_std_scaler = utils.fit_transform_scaler(\n",
    "    minmax_std_scaler,\n",
    "    train_set_minmax,\n",
    "    config[\"predictors_feature_engineered\"],\n",
    "    config[\"minmax_std_path\"]\n",
    ")"
   ]
  },
  {
   "cell_type": "code",
   "execution_count": 13,
   "metadata": {},
   "outputs": [
    {
     "name": "stdout",
     "output_type": "stream",
     "text": [
      "Serialized models/rmout_minmax_std.pkl\n"
     ]
    }
   ],
   "source": [
    "rmout_minmax_std_scaler = utils.create_standard_scaler_object()\n",
    "train_set_rmout_minmax_std, rmout_minmax_std_scaler = utils.fit_transform_scaler(\n",
    "    rmout_minmax_std_scaler,\n",
    "    train_set_rmout_minmax,\n",
    "    config[\"predictors_feature_engineered\"],\n",
    "    config[\"rmout_minmax_std_path\"]\n",
    ")"
   ]
  },
  {
   "cell_type": "code",
   "execution_count": 14,
   "metadata": {},
   "outputs": [],
   "source": [
    "# lastly, until now, we have 8 train data:\n",
    "# 1. train_set\n",
    "# 2. train_set_rmout\n",
    "# 3. train_set_std\n",
    "# 4. train_set_minmax\n",
    "# 5. train_set_rmout_std\n",
    "# 6. train_set_rmout_minmax\n",
    "# 7. train_set_minmax_std\n",
    "# 8. train_set_rmout_minmax_std\n",
    "\n",
    "# also we have 4 more object:\n",
    "# 1. minmax_object\n",
    "# 2. std_scaler\n",
    "# 3. rmout_minmax_scaler\n",
    "# 4. rmout_std_scaler\n",
    "# 5. minmax_std_scaler\n",
    "# 6. rmout_minmax_std_scaler"
   ]
  },
  {
   "cell_type": "markdown",
   "metadata": {},
   "source": [
    "## 3. Feature Engineering For Validation Set"
   ]
  },
  {
   "cell_type": "markdown",
   "metadata": {},
   "source": [
    "### 3.1. Outliers Removal"
   ]
  },
  {
   "cell_type": "code",
   "execution_count": 15,
   "metadata": {},
   "outputs": [],
   "source": [
    "valid_set_rmout = utils.transform_iqr_outliers_removal(valid_set, iqr_data)"
   ]
  },
  {
   "cell_type": "markdown",
   "metadata": {},
   "source": [
    "### 3.2. Feature Scaling"
   ]
  },
  {
   "cell_type": "markdown",
   "metadata": {},
   "source": [
    "#### 3.2.1. Min-Max Normalization"
   ]
  },
  {
   "cell_type": "code",
   "execution_count": 16,
   "metadata": {},
   "outputs": [],
   "source": [
    "valid_set_minmax = utils.transform_using_scaler(\n",
    "    valid_set,\n",
    "    config[\"predictors_feature_engineered\"],\n",
    "    config[\"minmax_path\"]\n",
    ")"
   ]
  },
  {
   "cell_type": "code",
   "execution_count": 17,
   "metadata": {},
   "outputs": [],
   "source": [
    "valid_set_rmout_minmax = utils.transform_using_scaler(\n",
    "    valid_set_rmout,\n",
    "    config[\"predictors_feature_engineered\"],\n",
    "    config[\"rmout_minmax_path\"]\n",
    ")"
   ]
  },
  {
   "cell_type": "markdown",
   "metadata": {},
   "source": [
    "#### 3.2.2. Standardization"
   ]
  },
  {
   "cell_type": "code",
   "execution_count": 18,
   "metadata": {},
   "outputs": [],
   "source": [
    "valid_set_std = utils.transform_using_scaler(\n",
    "    valid_set,\n",
    "    config[\"predictors_feature_engineered\"],\n",
    "    config[\"std_path\"]\n",
    ")"
   ]
  },
  {
   "cell_type": "code",
   "execution_count": 19,
   "metadata": {},
   "outputs": [],
   "source": [
    "valid_set_rmout_std = utils.transform_using_scaler(\n",
    "    valid_set_rmout,\n",
    "    config[\"predictors_feature_engineered\"],\n",
    "    config[\"rmout_std_path\"]\n",
    ")"
   ]
  },
  {
   "cell_type": "code",
   "execution_count": 20,
   "metadata": {},
   "outputs": [],
   "source": [
    "valid_set_minmax_std = utils.transform_using_scaler(\n",
    "    valid_set_minmax,\n",
    "    config[\"predictors_feature_engineered\"],\n",
    "    config[\"minmax_std_path\"]\n",
    ")"
   ]
  },
  {
   "cell_type": "code",
   "execution_count": 21,
   "metadata": {},
   "outputs": [],
   "source": [
    "valid_set_rmout_minmax_std = utils.transform_using_scaler(\n",
    "    valid_set_rmout_minmax,\n",
    "    config[\"predictors_feature_engineered\"],\n",
    "    config[\"rmout_minmax_std_path\"]\n",
    ")"
   ]
  },
  {
   "cell_type": "markdown",
   "metadata": {},
   "source": [
    "## 4. Feature Engineering For Test Set"
   ]
  },
  {
   "cell_type": "markdown",
   "metadata": {},
   "source": [
    "### 4.1. Outliers Removal"
   ]
  },
  {
   "cell_type": "code",
   "execution_count": 22,
   "metadata": {},
   "outputs": [],
   "source": [
    "test_set_rmout = utils.transform_iqr_outliers_removal(test_set, iqr_data)"
   ]
  },
  {
   "cell_type": "markdown",
   "metadata": {},
   "source": [
    "### 4.2. Feature Scaling"
   ]
  },
  {
   "cell_type": "markdown",
   "metadata": {},
   "source": [
    "#### 4.2.1. Min-Max Normalization"
   ]
  },
  {
   "cell_type": "code",
   "execution_count": 23,
   "metadata": {},
   "outputs": [],
   "source": [
    "test_set_minmax = utils.transform_using_scaler(\n",
    "    test_set,\n",
    "    config[\"predictors_feature_engineered\"],\n",
    "    config[\"minmax_path\"]\n",
    ")"
   ]
  },
  {
   "cell_type": "code",
   "execution_count": 24,
   "metadata": {},
   "outputs": [],
   "source": [
    "test_set_rmout_minmax = utils.transform_using_scaler(\n",
    "    test_set_rmout,\n",
    "    config[\"predictors_feature_engineered\"],\n",
    "    config[\"rmout_minmax_path\"]\n",
    ")"
   ]
  },
  {
   "cell_type": "markdown",
   "metadata": {},
   "source": [
    "#### 4.2.2. Standardization"
   ]
  },
  {
   "cell_type": "code",
   "execution_count": 25,
   "metadata": {},
   "outputs": [],
   "source": [
    "test_set_std = utils.transform_using_scaler(\n",
    "    test_set,\n",
    "    config[\"predictors_feature_engineered\"],\n",
    "    config[\"std_path\"]\n",
    ")"
   ]
  },
  {
   "cell_type": "code",
   "execution_count": 26,
   "metadata": {},
   "outputs": [],
   "source": [
    "test_set_rmout_std = utils.transform_using_scaler(\n",
    "    test_set_rmout,\n",
    "    config[\"predictors_feature_engineered\"],\n",
    "    config[\"rmout_std_path\"]\n",
    ")"
   ]
  },
  {
   "cell_type": "code",
   "execution_count": 27,
   "metadata": {},
   "outputs": [],
   "source": [
    "test_set_minmax_std = utils.transform_using_scaler(\n",
    "    test_set_minmax,\n",
    "    config[\"predictors_feature_engineered\"],\n",
    "    config[\"minmax_std_path\"]\n",
    ")"
   ]
  },
  {
   "cell_type": "code",
   "execution_count": 28,
   "metadata": {},
   "outputs": [],
   "source": [
    "test_set_rmout_minmax_std = utils.transform_using_scaler(\n",
    "    test_set_rmout_minmax,\n",
    "    config[\"predictors_feature_engineered\"],\n",
    "    config[\"rmout_minmax_std_path\"]\n",
    ")"
   ]
  },
  {
   "cell_type": "markdown",
   "metadata": {},
   "source": [
    "## 5. Serialize Dataset"
   ]
  },
  {
   "cell_type": "code",
   "execution_count": null,
   "metadata": {},
   "outputs": [],
   "source": []
  },
  {
   "cell_type": "code",
   "execution_count": null,
   "metadata": {},
   "outputs": [],
   "source": []
  },
  {
   "cell_type": "code",
   "execution_count": null,
   "metadata": {},
   "outputs": [],
   "source": []
  }
 ],
 "metadata": {
  "kernelspec": {
   "display_name": "venv_mlprocess",
   "language": "python",
   "name": "python3"
  },
  "language_info": {
   "codemirror_mode": {
    "name": "ipython",
    "version": 3
   },
   "file_extension": ".py",
   "mimetype": "text/x-python",
   "name": "python",
   "nbconvert_exporter": "python",
   "pygments_lexer": "ipython3",
   "version": "3.11.7"
  }
 },
 "nbformat": 4,
 "nbformat_minor": 2
}
